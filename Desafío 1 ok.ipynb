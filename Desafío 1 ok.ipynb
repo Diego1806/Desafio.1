{
 "cells": [
  {
   "cell_type": "markdown",
   "metadata": {},
   "source": [
    "# Desafío 1"
   ]
  },
  {
   "cell_type": "markdown",
   "metadata": {},
   "source": [
    "<a id=\"section_toc\"></a> \n",
    "Leemos los datos."
   ]
  },
  {
   "cell_type": "code",
   "execution_count": 1,
   "metadata": {},
   "outputs": [],
   "source": [
    "import pandas as pd\n",
    "import numpy as np\n",
    "import seaborn as sns\n",
    "import matplotlib as mpl\n",
    "import matplotlib.pyplot as plt\n",
    "%matplotlib inline\n",
    "import re\n",
    "\n",
    "data_location = \"properati.csv\"\n",
    "properati = pd.read_csv(data_location)"
   ]
  },
  {
   "cell_type": "markdown",
   "metadata": {},
   "source": [
    "<a id=\"section_toc\"></a> \n",
    "\n",
    "Tamaño del DataFrame."
   ]
  },
  {
   "cell_type": "code",
   "execution_count": 2,
   "metadata": {},
   "outputs": [
    {
     "name": "stdout",
     "output_type": "stream",
     "text": [
      "Cantidad de filas:  121220\n",
      "Cantidad de columnas:  26\n"
     ]
    }
   ],
   "source": [
    "print(\"Cantidad de filas: \", str(properati.shape[0]))\n",
    "print(\"Cantidad de columnas: \", str(properati.shape[1]))"
   ]
  },
  {
   "cell_type": "markdown",
   "metadata": {},
   "source": [
    "<a id=\"section_toc\"></a> \n",
    "\n",
    "Nombres de las columnas y tipo de datos."
   ]
  },
  {
   "cell_type": "code",
   "execution_count": 3,
   "metadata": {},
   "outputs": [
    {
     "data": {
      "text/plain": [
       "Unnamed: 0                      int64\n",
       "operation                      object\n",
       "property_type                  object\n",
       "place_name                     object\n",
       "place_with_parent_names        object\n",
       "country_name                   object\n",
       "state_name                     object\n",
       "geonames_id                   float64\n",
       "lat-lon                        object\n",
       "lat                           float64\n",
       "lon                           float64\n",
       "price                         float64\n",
       "currency                       object\n",
       "price_aprox_local_currency    float64\n",
       "price_aprox_usd               float64\n",
       "surface_total_in_m2           float64\n",
       "surface_covered_in_m2         float64\n",
       "price_usd_per_m2              float64\n",
       "price_per_m2                  float64\n",
       "floor                         float64\n",
       "rooms                         float64\n",
       "expenses                      float64\n",
       "properati_url                  object\n",
       "description                    object\n",
       "title                          object\n",
       "image_thumbnail                object\n",
       "dtype: object"
      ]
     },
     "execution_count": 3,
     "metadata": {},
     "output_type": "execute_result"
    }
   ],
   "source": [
    "properati.dtypes"
   ]
  },
  {
   "cell_type": "markdown",
   "metadata": {},
   "source": [
    "<a id=\"section_toc\"></a> \n",
    "\n",
    "Veamos los primeros 5 registros."
   ]
  },
  {
   "cell_type": "code",
   "execution_count": 4,
   "metadata": {},
   "outputs": [
    {
     "data": {
      "text/html": [
       "<div>\n",
       "<style scoped>\n",
       "    .dataframe tbody tr th:only-of-type {\n",
       "        vertical-align: middle;\n",
       "    }\n",
       "\n",
       "    .dataframe tbody tr th {\n",
       "        vertical-align: top;\n",
       "    }\n",
       "\n",
       "    .dataframe thead th {\n",
       "        text-align: right;\n",
       "    }\n",
       "</style>\n",
       "<table border=\"1\" class=\"dataframe\">\n",
       "  <thead>\n",
       "    <tr style=\"text-align: right;\">\n",
       "      <th></th>\n",
       "      <th>Unnamed: 0</th>\n",
       "      <th>operation</th>\n",
       "      <th>property_type</th>\n",
       "      <th>place_name</th>\n",
       "      <th>place_with_parent_names</th>\n",
       "      <th>country_name</th>\n",
       "      <th>state_name</th>\n",
       "      <th>geonames_id</th>\n",
       "      <th>lat-lon</th>\n",
       "      <th>lat</th>\n",
       "      <th>...</th>\n",
       "      <th>surface_covered_in_m2</th>\n",
       "      <th>price_usd_per_m2</th>\n",
       "      <th>price_per_m2</th>\n",
       "      <th>floor</th>\n",
       "      <th>rooms</th>\n",
       "      <th>expenses</th>\n",
       "      <th>properati_url</th>\n",
       "      <th>description</th>\n",
       "      <th>title</th>\n",
       "      <th>image_thumbnail</th>\n",
       "    </tr>\n",
       "  </thead>\n",
       "  <tbody>\n",
       "    <tr>\n",
       "      <th>0</th>\n",
       "      <td>0</td>\n",
       "      <td>sell</td>\n",
       "      <td>PH</td>\n",
       "      <td>Mataderos</td>\n",
       "      <td>|Argentina|Capital Federal|Mataderos|</td>\n",
       "      <td>Argentina</td>\n",
       "      <td>Capital Federal</td>\n",
       "      <td>3430787.0</td>\n",
       "      <td>-34.6618237,-58.5088387</td>\n",
       "      <td>-34.661824</td>\n",
       "      <td>...</td>\n",
       "      <td>40.0</td>\n",
       "      <td>1127.272727</td>\n",
       "      <td>1550.000000</td>\n",
       "      <td>NaN</td>\n",
       "      <td>NaN</td>\n",
       "      <td>NaN</td>\n",
       "      <td>http://www.properati.com.ar/15bo8_venta_ph_mat...</td>\n",
       "      <td>2 AMBIENTES TIPO CASA PLANTA BAJA POR PASILLO,...</td>\n",
       "      <td>2 AMB TIPO CASA SIN EXPENSAS EN PB</td>\n",
       "      <td>https://thumbs4.properati.com/8/BluUYiHJLhgIIK...</td>\n",
       "    </tr>\n",
       "    <tr>\n",
       "      <th>1</th>\n",
       "      <td>1</td>\n",
       "      <td>sell</td>\n",
       "      <td>apartment</td>\n",
       "      <td>La Plata</td>\n",
       "      <td>|Argentina|Bs.As. G.B.A. Zona Sur|La Plata|</td>\n",
       "      <td>Argentina</td>\n",
       "      <td>Bs.As. G.B.A. Zona Sur</td>\n",
       "      <td>3432039.0</td>\n",
       "      <td>-34.9038831,-57.9643295</td>\n",
       "      <td>-34.903883</td>\n",
       "      <td>...</td>\n",
       "      <td>NaN</td>\n",
       "      <td>NaN</td>\n",
       "      <td>NaN</td>\n",
       "      <td>NaN</td>\n",
       "      <td>NaN</td>\n",
       "      <td>NaN</td>\n",
       "      <td>http://www.properati.com.ar/15bob_venta_depart...</td>\n",
       "      <td>Venta de departamento en décimo piso al frente...</td>\n",
       "      <td>VENTA Depto 2 dorm. a estrenar 7 e/ 36 y 37   ...</td>\n",
       "      <td>https://thumbs4.properati.com/7/ikpVBu2ztHA7jv...</td>\n",
       "    </tr>\n",
       "    <tr>\n",
       "      <th>2</th>\n",
       "      <td>2</td>\n",
       "      <td>sell</td>\n",
       "      <td>apartment</td>\n",
       "      <td>Mataderos</td>\n",
       "      <td>|Argentina|Capital Federal|Mataderos|</td>\n",
       "      <td>Argentina</td>\n",
       "      <td>Capital Federal</td>\n",
       "      <td>3430787.0</td>\n",
       "      <td>-34.6522615,-58.5229825</td>\n",
       "      <td>-34.652262</td>\n",
       "      <td>...</td>\n",
       "      <td>55.0</td>\n",
       "      <td>1309.090909</td>\n",
       "      <td>1309.090909</td>\n",
       "      <td>NaN</td>\n",
       "      <td>NaN</td>\n",
       "      <td>NaN</td>\n",
       "      <td>http://www.properati.com.ar/15bod_venta_depart...</td>\n",
       "      <td>2 AMBIENTES 3ER PISO LATERAL LIVING COMEDOR AM...</td>\n",
       "      <td>2 AMB 3ER PISO CON ASCENSOR APTO CREDITO</td>\n",
       "      <td>https://thumbs4.properati.com/5/SXKr34F_IwG3W_...</td>\n",
       "    </tr>\n",
       "    <tr>\n",
       "      <th>3</th>\n",
       "      <td>3</td>\n",
       "      <td>sell</td>\n",
       "      <td>PH</td>\n",
       "      <td>Liniers</td>\n",
       "      <td>|Argentina|Capital Federal|Liniers|</td>\n",
       "      <td>Argentina</td>\n",
       "      <td>Capital Federal</td>\n",
       "      <td>3431333.0</td>\n",
       "      <td>-34.6477969,-58.5164244</td>\n",
       "      <td>-34.647797</td>\n",
       "      <td>...</td>\n",
       "      <td>NaN</td>\n",
       "      <td>NaN</td>\n",
       "      <td>NaN</td>\n",
       "      <td>NaN</td>\n",
       "      <td>NaN</td>\n",
       "      <td>NaN</td>\n",
       "      <td>http://www.properati.com.ar/15boh_venta_ph_lin...</td>\n",
       "      <td>PH 3 ambientes con patio. Hay 3 deptos en lote...</td>\n",
       "      <td>PH 3 amb. cfte. reciclado</td>\n",
       "      <td>https://thumbs4.properati.com/3/DgIfX-85Mog5SP...</td>\n",
       "    </tr>\n",
       "    <tr>\n",
       "      <th>4</th>\n",
       "      <td>4</td>\n",
       "      <td>sell</td>\n",
       "      <td>apartment</td>\n",
       "      <td>Centro</td>\n",
       "      <td>|Argentina|Buenos Aires Costa Atlántica|Mar de...</td>\n",
       "      <td>Argentina</td>\n",
       "      <td>Buenos Aires Costa Atlántica</td>\n",
       "      <td>3435548.0</td>\n",
       "      <td>-38.0026256,-57.5494468</td>\n",
       "      <td>-38.002626</td>\n",
       "      <td>...</td>\n",
       "      <td>35.0</td>\n",
       "      <td>1828.571429</td>\n",
       "      <td>1828.571429</td>\n",
       "      <td>NaN</td>\n",
       "      <td>NaN</td>\n",
       "      <td>NaN</td>\n",
       "      <td>http://www.properati.com.ar/15bok_venta_depart...</td>\n",
       "      <td>DEPARTAMENTO CON FANTÁSTICA ILUMINACIÓN NATURA...</td>\n",
       "      <td>DEPTO 2 AMB AL CONTRAFRENTE ZONA CENTRO/PLAZA ...</td>\n",
       "      <td>https://thumbs4.properati.com/5/xrRqlNcSI_vs-f...</td>\n",
       "    </tr>\n",
       "  </tbody>\n",
       "</table>\n",
       "<p>5 rows × 26 columns</p>\n",
       "</div>"
      ],
      "text/plain": [
       "   Unnamed: 0 operation property_type place_name  \\\n",
       "0           0      sell            PH  Mataderos   \n",
       "1           1      sell     apartment   La Plata   \n",
       "2           2      sell     apartment  Mataderos   \n",
       "3           3      sell            PH    Liniers   \n",
       "4           4      sell     apartment     Centro   \n",
       "\n",
       "                             place_with_parent_names country_name  \\\n",
       "0              |Argentina|Capital Federal|Mataderos|    Argentina   \n",
       "1        |Argentina|Bs.As. G.B.A. Zona Sur|La Plata|    Argentina   \n",
       "2              |Argentina|Capital Federal|Mataderos|    Argentina   \n",
       "3                |Argentina|Capital Federal|Liniers|    Argentina   \n",
       "4  |Argentina|Buenos Aires Costa Atlántica|Mar de...    Argentina   \n",
       "\n",
       "                     state_name  geonames_id                  lat-lon  \\\n",
       "0               Capital Federal    3430787.0  -34.6618237,-58.5088387   \n",
       "1        Bs.As. G.B.A. Zona Sur    3432039.0  -34.9038831,-57.9643295   \n",
       "2               Capital Federal    3430787.0  -34.6522615,-58.5229825   \n",
       "3               Capital Federal    3431333.0  -34.6477969,-58.5164244   \n",
       "4  Buenos Aires Costa Atlántica    3435548.0  -38.0026256,-57.5494468   \n",
       "\n",
       "         lat  ...  surface_covered_in_m2  price_usd_per_m2 price_per_m2  \\\n",
       "0 -34.661824  ...                   40.0       1127.272727  1550.000000   \n",
       "1 -34.903883  ...                    NaN               NaN          NaN   \n",
       "2 -34.652262  ...                   55.0       1309.090909  1309.090909   \n",
       "3 -34.647797  ...                    NaN               NaN          NaN   \n",
       "4 -38.002626  ...                   35.0       1828.571429  1828.571429   \n",
       "\n",
       "   floor  rooms  expenses                                      properati_url  \\\n",
       "0    NaN    NaN       NaN  http://www.properati.com.ar/15bo8_venta_ph_mat...   \n",
       "1    NaN    NaN       NaN  http://www.properati.com.ar/15bob_venta_depart...   \n",
       "2    NaN    NaN       NaN  http://www.properati.com.ar/15bod_venta_depart...   \n",
       "3    NaN    NaN       NaN  http://www.properati.com.ar/15boh_venta_ph_lin...   \n",
       "4    NaN    NaN       NaN  http://www.properati.com.ar/15bok_venta_depart...   \n",
       "\n",
       "                                         description  \\\n",
       "0  2 AMBIENTES TIPO CASA PLANTA BAJA POR PASILLO,...   \n",
       "1  Venta de departamento en décimo piso al frente...   \n",
       "2  2 AMBIENTES 3ER PISO LATERAL LIVING COMEDOR AM...   \n",
       "3  PH 3 ambientes con patio. Hay 3 deptos en lote...   \n",
       "4  DEPARTAMENTO CON FANTÁSTICA ILUMINACIÓN NATURA...   \n",
       "\n",
       "                                               title  \\\n",
       "0                 2 AMB TIPO CASA SIN EXPENSAS EN PB   \n",
       "1  VENTA Depto 2 dorm. a estrenar 7 e/ 36 y 37   ...   \n",
       "2           2 AMB 3ER PISO CON ASCENSOR APTO CREDITO   \n",
       "3                       PH 3 amb. cfte. reciclado      \n",
       "4  DEPTO 2 AMB AL CONTRAFRENTE ZONA CENTRO/PLAZA ...   \n",
       "\n",
       "                                     image_thumbnail  \n",
       "0  https://thumbs4.properati.com/8/BluUYiHJLhgIIK...  \n",
       "1  https://thumbs4.properati.com/7/ikpVBu2ztHA7jv...  \n",
       "2  https://thumbs4.properati.com/5/SXKr34F_IwG3W_...  \n",
       "3  https://thumbs4.properati.com/3/DgIfX-85Mog5SP...  \n",
       "4  https://thumbs4.properati.com/5/xrRqlNcSI_vs-f...  \n",
       "\n",
       "[5 rows x 26 columns]"
      ]
     },
     "execution_count": 4,
     "metadata": {},
     "output_type": "execute_result"
    }
   ],
   "source": [
    "properati.head(5)"
   ]
  },
  {
   "cell_type": "markdown",
   "metadata": {},
   "source": [
    "<a id=\"section_toc\"></a> \n",
    "\n",
    "Información general sobre el marco de datos."
   ]
  },
  {
   "cell_type": "code",
   "execution_count": 5,
   "metadata": {},
   "outputs": [
    {
     "name": "stdout",
     "output_type": "stream",
     "text": [
      "<class 'pandas.core.frame.DataFrame'>\n",
      "RangeIndex: 121220 entries, 0 to 121219\n",
      "Data columns (total 26 columns):\n",
      " #   Column                      Non-Null Count   Dtype  \n",
      "---  ------                      --------------   -----  \n",
      " 0   Unnamed: 0                  121220 non-null  int64  \n",
      " 1   operation                   121220 non-null  object \n",
      " 2   property_type               121220 non-null  object \n",
      " 3   place_name                  121197 non-null  object \n",
      " 4   place_with_parent_names     121220 non-null  object \n",
      " 5   country_name                121220 non-null  object \n",
      " 6   state_name                  121220 non-null  object \n",
      " 7   geonames_id                 102503 non-null  float64\n",
      " 8   lat-lon                     69670 non-null   object \n",
      " 9   lat                         69670 non-null   float64\n",
      " 10  lon                         69670 non-null   float64\n",
      " 11  price                       100810 non-null  float64\n",
      " 12  currency                    100809 non-null  object \n",
      " 13  price_aprox_local_currency  100810 non-null  float64\n",
      " 14  price_aprox_usd             100810 non-null  float64\n",
      " 15  surface_total_in_m2         81892 non-null   float64\n",
      " 16  surface_covered_in_m2       101313 non-null  float64\n",
      " 17  price_usd_per_m2            68617 non-null   float64\n",
      " 18  price_per_m2                87658 non-null   float64\n",
      " 19  floor                       7899 non-null    float64\n",
      " 20  rooms                       47390 non-null   float64\n",
      " 21  expenses                    14262 non-null   float64\n",
      " 22  properati_url               121220 non-null  object \n",
      " 23  description                 121218 non-null  object \n",
      " 24  title                       121220 non-null  object \n",
      " 25  image_thumbnail             118108 non-null  object \n",
      "dtypes: float64(13), int64(1), object(12)\n",
      "memory usage: 24.0+ MB\n"
     ]
    }
   ],
   "source": [
    "properati.info()"
   ]
  },
  {
   "cell_type": "markdown",
   "metadata": {},
   "source": [
    "<a id=\"section_toc\"></a> \n",
    "\n",
    "object, int64, float64, son los tipos de datos del DataFrame. Vemos que 12 columnas son de tipo objeto y 14 son numéricas. Se observa, también, que hay valores faltantes en 16 de ellas. \n",
    "\n",
    "Porcentaje de valores faltantes para cada columna."
   ]
  },
  {
   "cell_type": "code",
   "execution_count": 6,
   "metadata": {},
   "outputs": [
    {
     "data": {
      "text/plain": [
       "Unnamed: 0                    0.0000\n",
       "operation                     0.0000\n",
       "property_type                 0.0000\n",
       "place_name                    0.0002\n",
       "place_with_parent_names       0.0000\n",
       "country_name                  0.0000\n",
       "state_name                    0.0000\n",
       "geonames_id                   0.1544\n",
       "lat-lon                       0.4253\n",
       "lat                           0.4253\n",
       "lon                           0.4253\n",
       "price                         0.1684\n",
       "currency                      0.1684\n",
       "price_aprox_local_currency    0.1684\n",
       "price_aprox_usd               0.1684\n",
       "surface_total_in_m2           0.3244\n",
       "surface_covered_in_m2         0.1642\n",
       "price_usd_per_m2              0.4339\n",
       "price_per_m2                  0.2769\n",
       "floor                         0.9348\n",
       "rooms                         0.6091\n",
       "expenses                      0.8823\n",
       "properati_url                 0.0000\n",
       "description                   0.0000\n",
       "title                         0.0000\n",
       "image_thumbnail               0.0257\n",
       "dtype: float64"
      ]
     },
     "execution_count": 6,
     "metadata": {},
     "output_type": "execute_result"
    }
   ],
   "source": [
    "round(properati.isnull().sum() / properati.shape[0],4)"
   ]
  },
  {
   "cell_type": "markdown",
   "metadata": {},
   "source": [
    "<a id=\"section_toc\"></a> \n",
    "\n",
    "Características estadísticas básicas de cada columna."
   ]
  },
  {
   "cell_type": "code",
   "execution_count": 7,
   "metadata": {},
   "outputs": [
    {
     "data": {
      "text/html": [
       "<div>\n",
       "<style scoped>\n",
       "    .dataframe tbody tr th:only-of-type {\n",
       "        vertical-align: middle;\n",
       "    }\n",
       "\n",
       "    .dataframe tbody tr th {\n",
       "        vertical-align: top;\n",
       "    }\n",
       "\n",
       "    .dataframe thead th {\n",
       "        text-align: right;\n",
       "    }\n",
       "</style>\n",
       "<table border=\"1\" class=\"dataframe\">\n",
       "  <thead>\n",
       "    <tr style=\"text-align: right;\">\n",
       "      <th></th>\n",
       "      <th>Unnamed: 0</th>\n",
       "      <th>geonames_id</th>\n",
       "      <th>lat</th>\n",
       "      <th>lon</th>\n",
       "      <th>price</th>\n",
       "      <th>price_aprox_local_currency</th>\n",
       "      <th>price_aprox_usd</th>\n",
       "      <th>surface_total_in_m2</th>\n",
       "      <th>surface_covered_in_m2</th>\n",
       "      <th>price_usd_per_m2</th>\n",
       "      <th>price_per_m2</th>\n",
       "      <th>floor</th>\n",
       "      <th>rooms</th>\n",
       "      <th>expenses</th>\n",
       "    </tr>\n",
       "  </thead>\n",
       "  <tbody>\n",
       "    <tr>\n",
       "      <th>count</th>\n",
       "      <td>121220.000000</td>\n",
       "      <td>1.025030e+05</td>\n",
       "      <td>69670.000000</td>\n",
       "      <td>69670.000000</td>\n",
       "      <td>1.008100e+05</td>\n",
       "      <td>1.008100e+05</td>\n",
       "      <td>1.008100e+05</td>\n",
       "      <td>81892.000000</td>\n",
       "      <td>101313.000000</td>\n",
       "      <td>68617.000000</td>\n",
       "      <td>8.765800e+04</td>\n",
       "      <td>7899.000000</td>\n",
       "      <td>47390.000000</td>\n",
       "      <td>1.426200e+04</td>\n",
       "    </tr>\n",
       "    <tr>\n",
       "      <th>mean</th>\n",
       "      <td>60609.500000</td>\n",
       "      <td>3.574442e+06</td>\n",
       "      <td>-34.626210</td>\n",
       "      <td>-59.266290</td>\n",
       "      <td>4.685259e+05</td>\n",
       "      <td>4.229397e+06</td>\n",
       "      <td>2.397006e+05</td>\n",
       "      <td>233.795328</td>\n",
       "      <td>133.050181</td>\n",
       "      <td>2160.086916</td>\n",
       "      <td>6.912216e+03</td>\n",
       "      <td>17.452336</td>\n",
       "      <td>3.080840</td>\n",
       "      <td>5.009234e+03</td>\n",
       "    </tr>\n",
       "    <tr>\n",
       "      <th>std</th>\n",
       "      <td>34993.344153</td>\n",
       "      <td>3.541306e+05</td>\n",
       "      <td>1.980936</td>\n",
       "      <td>2.299922</td>\n",
       "      <td>2.260101e+06</td>\n",
       "      <td>6.904714e+06</td>\n",
       "      <td>3.913239e+05</td>\n",
       "      <td>1782.222147</td>\n",
       "      <td>724.351479</td>\n",
       "      <td>2759.288621</td>\n",
       "      <td>2.837864e+04</td>\n",
       "      <td>120.243621</td>\n",
       "      <td>1.860773</td>\n",
       "      <td>1.204403e+05</td>\n",
       "    </tr>\n",
       "    <tr>\n",
       "      <th>min</th>\n",
       "      <td>0.000000</td>\n",
       "      <td>3.427208e+06</td>\n",
       "      <td>-54.823985</td>\n",
       "      <td>-75.678931</td>\n",
       "      <td>0.000000e+00</td>\n",
       "      <td>0.000000e+00</td>\n",
       "      <td>0.000000e+00</td>\n",
       "      <td>0.000000</td>\n",
       "      <td>0.000000</td>\n",
       "      <td>0.600000</td>\n",
       "      <td>1.510204e+00</td>\n",
       "      <td>1.000000</td>\n",
       "      <td>1.000000</td>\n",
       "      <td>1.000000e+00</td>\n",
       "    </tr>\n",
       "    <tr>\n",
       "      <th>25%</th>\n",
       "      <td>30304.750000</td>\n",
       "      <td>3.430234e+06</td>\n",
       "      <td>-34.669065</td>\n",
       "      <td>-58.727040</td>\n",
       "      <td>1.100000e+05</td>\n",
       "      <td>1.583309e+06</td>\n",
       "      <td>8.973388e+04</td>\n",
       "      <td>50.000000</td>\n",
       "      <td>45.000000</td>\n",
       "      <td>1218.181818</td>\n",
       "      <td>1.550000e+03</td>\n",
       "      <td>1.000000</td>\n",
       "      <td>2.000000</td>\n",
       "      <td>1.000000e+03</td>\n",
       "    </tr>\n",
       "    <tr>\n",
       "      <th>50%</th>\n",
       "      <td>60609.500000</td>\n",
       "      <td>3.433910e+06</td>\n",
       "      <td>-34.597985</td>\n",
       "      <td>-58.480128</td>\n",
       "      <td>1.850000e+05</td>\n",
       "      <td>2.558452e+06</td>\n",
       "      <td>1.450000e+05</td>\n",
       "      <td>84.000000</td>\n",
       "      <td>75.000000</td>\n",
       "      <td>1800.000000</td>\n",
       "      <td>2.213115e+03</td>\n",
       "      <td>3.000000</td>\n",
       "      <td>3.000000</td>\n",
       "      <td>2.000000e+03</td>\n",
       "    </tr>\n",
       "    <tr>\n",
       "      <th>75%</th>\n",
       "      <td>90914.250000</td>\n",
       "      <td>3.836668e+06</td>\n",
       "      <td>-34.441299</td>\n",
       "      <td>-58.395908</td>\n",
       "      <td>4.200000e+05</td>\n",
       "      <td>4.675792e+06</td>\n",
       "      <td>2.650000e+05</td>\n",
       "      <td>200.000000</td>\n",
       "      <td>150.000000</td>\n",
       "      <td>2486.411765</td>\n",
       "      <td>3.355549e+03</td>\n",
       "      <td>6.000000</td>\n",
       "      <td>4.000000</td>\n",
       "      <td>4.000000e+03</td>\n",
       "    </tr>\n",
       "    <tr>\n",
       "      <th>max</th>\n",
       "      <td>121219.000000</td>\n",
       "      <td>6.948895e+06</td>\n",
       "      <td>4.545843</td>\n",
       "      <td>-53.733330</td>\n",
       "      <td>6.500000e+08</td>\n",
       "      <td>8.212711e+08</td>\n",
       "      <td>4.654544e+07</td>\n",
       "      <td>200000.000000</td>\n",
       "      <td>187000.000000</td>\n",
       "      <td>206333.333333</td>\n",
       "      <td>4.000000e+06</td>\n",
       "      <td>3150.000000</td>\n",
       "      <td>32.000000</td>\n",
       "      <td>1.000150e+07</td>\n",
       "    </tr>\n",
       "  </tbody>\n",
       "</table>\n",
       "</div>"
      ],
      "text/plain": [
       "          Unnamed: 0   geonames_id           lat           lon         price  \\\n",
       "count  121220.000000  1.025030e+05  69670.000000  69670.000000  1.008100e+05   \n",
       "mean    60609.500000  3.574442e+06    -34.626210    -59.266290  4.685259e+05   \n",
       "std     34993.344153  3.541306e+05      1.980936      2.299922  2.260101e+06   \n",
       "min         0.000000  3.427208e+06    -54.823985    -75.678931  0.000000e+00   \n",
       "25%     30304.750000  3.430234e+06    -34.669065    -58.727040  1.100000e+05   \n",
       "50%     60609.500000  3.433910e+06    -34.597985    -58.480128  1.850000e+05   \n",
       "75%     90914.250000  3.836668e+06    -34.441299    -58.395908  4.200000e+05   \n",
       "max    121219.000000  6.948895e+06      4.545843    -53.733330  6.500000e+08   \n",
       "\n",
       "       price_aprox_local_currency  price_aprox_usd  surface_total_in_m2  \\\n",
       "count                1.008100e+05     1.008100e+05         81892.000000   \n",
       "mean                 4.229397e+06     2.397006e+05           233.795328   \n",
       "std                  6.904714e+06     3.913239e+05          1782.222147   \n",
       "min                  0.000000e+00     0.000000e+00             0.000000   \n",
       "25%                  1.583309e+06     8.973388e+04            50.000000   \n",
       "50%                  2.558452e+06     1.450000e+05            84.000000   \n",
       "75%                  4.675792e+06     2.650000e+05           200.000000   \n",
       "max                  8.212711e+08     4.654544e+07        200000.000000   \n",
       "\n",
       "       surface_covered_in_m2  price_usd_per_m2  price_per_m2        floor  \\\n",
       "count          101313.000000      68617.000000  8.765800e+04  7899.000000   \n",
       "mean              133.050181       2160.086916  6.912216e+03    17.452336   \n",
       "std               724.351479       2759.288621  2.837864e+04   120.243621   \n",
       "min                 0.000000          0.600000  1.510204e+00     1.000000   \n",
       "25%                45.000000       1218.181818  1.550000e+03     1.000000   \n",
       "50%                75.000000       1800.000000  2.213115e+03     3.000000   \n",
       "75%               150.000000       2486.411765  3.355549e+03     6.000000   \n",
       "max            187000.000000     206333.333333  4.000000e+06  3150.000000   \n",
       "\n",
       "              rooms      expenses  \n",
       "count  47390.000000  1.426200e+04  \n",
       "mean       3.080840  5.009234e+03  \n",
       "std        1.860773  1.204403e+05  \n",
       "min        1.000000  1.000000e+00  \n",
       "25%        2.000000  1.000000e+03  \n",
       "50%        3.000000  2.000000e+03  \n",
       "75%        4.000000  4.000000e+03  \n",
       "max       32.000000  1.000150e+07  "
      ]
     },
     "execution_count": 7,
     "metadata": {},
     "output_type": "execute_result"
    }
   ],
   "source": [
    "properati.describe()                                                                                          "
   ]
  },
  {
   "cell_type": "code",
   "execution_count": 8,
   "metadata": {},
   "outputs": [
    {
     "data": {
      "text/html": [
       "<div>\n",
       "<style scoped>\n",
       "    .dataframe tbody tr th:only-of-type {\n",
       "        vertical-align: middle;\n",
       "    }\n",
       "\n",
       "    .dataframe tbody tr th {\n",
       "        vertical-align: top;\n",
       "    }\n",
       "\n",
       "    .dataframe thead th {\n",
       "        text-align: right;\n",
       "    }\n",
       "</style>\n",
       "<table border=\"1\" class=\"dataframe\">\n",
       "  <thead>\n",
       "    <tr style=\"text-align: right;\">\n",
       "      <th></th>\n",
       "      <th>operation</th>\n",
       "      <th>property_type</th>\n",
       "      <th>place_name</th>\n",
       "      <th>place_with_parent_names</th>\n",
       "      <th>country_name</th>\n",
       "      <th>state_name</th>\n",
       "      <th>lat-lon</th>\n",
       "      <th>currency</th>\n",
       "      <th>properati_url</th>\n",
       "      <th>description</th>\n",
       "      <th>title</th>\n",
       "      <th>image_thumbnail</th>\n",
       "    </tr>\n",
       "  </thead>\n",
       "  <tbody>\n",
       "    <tr>\n",
       "      <th>count</th>\n",
       "      <td>121220</td>\n",
       "      <td>121220</td>\n",
       "      <td>121197</td>\n",
       "      <td>121220</td>\n",
       "      <td>121220</td>\n",
       "      <td>121220</td>\n",
       "      <td>69670</td>\n",
       "      <td>100809</td>\n",
       "      <td>121220</td>\n",
       "      <td>121218</td>\n",
       "      <td>121220</td>\n",
       "      <td>118108</td>\n",
       "    </tr>\n",
       "    <tr>\n",
       "      <th>unique</th>\n",
       "      <td>1</td>\n",
       "      <td>4</td>\n",
       "      <td>1060</td>\n",
       "      <td>1164</td>\n",
       "      <td>1</td>\n",
       "      <td>28</td>\n",
       "      <td>47203</td>\n",
       "      <td>4</td>\n",
       "      <td>121220</td>\n",
       "      <td>104055</td>\n",
       "      <td>72705</td>\n",
       "      <td>114389</td>\n",
       "    </tr>\n",
       "    <tr>\n",
       "      <th>top</th>\n",
       "      <td>sell</td>\n",
       "      <td>apartment</td>\n",
       "      <td>Córdoba</td>\n",
       "      <td>|Argentina|Santa Fe|Rosario|</td>\n",
       "      <td>Argentina</td>\n",
       "      <td>Capital Federal</td>\n",
       "      <td>-34.4026444,-58.6684776</td>\n",
       "      <td>USD</td>\n",
       "      <td>http://www.properati.com.ar/189hw_venta_depart...</td>\n",
       "      <td>AVISO LEGAL: Las descripciones arquitectónicas...</td>\n",
       "      <td>DEPARTAMENTO EN VENTA</td>\n",
       "      <td>https://thumbs4.properati.com/5/yyMiu8BHQI9KXC...</td>\n",
       "    </tr>\n",
       "    <tr>\n",
       "      <th>freq</th>\n",
       "      <td>121220</td>\n",
       "      <td>71065</td>\n",
       "      <td>9254</td>\n",
       "      <td>8504</td>\n",
       "      <td>121220</td>\n",
       "      <td>32316</td>\n",
       "      <td>312</td>\n",
       "      <td>87587</td>\n",
       "      <td>1</td>\n",
       "      <td>358</td>\n",
       "      <td>4855</td>\n",
       "      <td>255</td>\n",
       "    </tr>\n",
       "  </tbody>\n",
       "</table>\n",
       "</div>"
      ],
      "text/plain": [
       "       operation property_type place_name       place_with_parent_names  \\\n",
       "count     121220        121220     121197                        121220   \n",
       "unique         1             4       1060                          1164   \n",
       "top         sell     apartment    Córdoba  |Argentina|Santa Fe|Rosario|   \n",
       "freq      121220         71065       9254                          8504   \n",
       "\n",
       "       country_name       state_name                  lat-lon currency  \\\n",
       "count        121220           121220                    69670   100809   \n",
       "unique            1               28                    47203        4   \n",
       "top       Argentina  Capital Federal  -34.4026444,-58.6684776      USD   \n",
       "freq         121220            32316                      312    87587   \n",
       "\n",
       "                                            properati_url  \\\n",
       "count                                              121220   \n",
       "unique                                             121220   \n",
       "top     http://www.properati.com.ar/189hw_venta_depart...   \n",
       "freq                                                    1   \n",
       "\n",
       "                                              description  \\\n",
       "count                                              121218   \n",
       "unique                                             104055   \n",
       "top     AVISO LEGAL: Las descripciones arquitectónicas...   \n",
       "freq                                                  358   \n",
       "\n",
       "                        title  \\\n",
       "count                  121220   \n",
       "unique                  72705   \n",
       "top     DEPARTAMENTO EN VENTA   \n",
       "freq                     4855   \n",
       "\n",
       "                                          image_thumbnail  \n",
       "count                                              118108  \n",
       "unique                                             114389  \n",
       "top     https://thumbs4.properati.com/5/yyMiu8BHQI9KXC...  \n",
       "freq                                                  255  "
      ]
     },
     "execution_count": 8,
     "metadata": {},
     "output_type": "execute_result"
    }
   ],
   "source": [
    "properati.describe(include = ['object'])"
   ]
  },
  {
   "cell_type": "markdown",
   "metadata": {},
   "source": [
    "<a id=\"section_toc\"></a> \n",
    "\n",
    "Eliminamos columnas que consideramos irrelevantes para nuestro análisis:\n",
    "\n",
    "   * 'country_name': solo toma valor = \"Argentina\".\n",
    "\n",
    "   * 'operation' : solo toma valor = \"sell\".\n",
    "\n",
    "   * 'place_with_parent_names': concatena \"'country_name'|'state_name'|'place_name'\".\n",
    "\n",
    "   * 'lat-lon': concatena \"'lat','lon'\". \n",
    "\n",
    "   * 'properati_url': irrelevante para el análisis.\n",
    "\n",
    "   * 'image_thumbnail': irrelevante para el análisis."
   ]
  },
  {
   "cell_type": "code",
   "execution_count": 9,
   "metadata": {},
   "outputs": [],
   "source": [
    "properati_reduced = properati.drop(['country_name','operation','place_with_parent_names','lat-lon','properati_url','image_thumbnail'], axis=1)"
   ]
  },
  {
   "cell_type": "markdown",
   "metadata": {},
   "source": [
    "<a id=\"section_toc\"></a> \n",
    "\n",
    "Controlamos."
   ]
  },
  {
   "cell_type": "code",
   "execution_count": 10,
   "metadata": {},
   "outputs": [
    {
     "name": "stdout",
     "output_type": "stream",
     "text": [
      "<class 'pandas.core.frame.DataFrame'>\n",
      "RangeIndex: 121220 entries, 0 to 121219\n",
      "Data columns (total 20 columns):\n",
      " #   Column                      Non-Null Count   Dtype  \n",
      "---  ------                      --------------   -----  \n",
      " 0   Unnamed: 0                  121220 non-null  int64  \n",
      " 1   property_type               121220 non-null  object \n",
      " 2   place_name                  121197 non-null  object \n",
      " 3   state_name                  121220 non-null  object \n",
      " 4   geonames_id                 102503 non-null  float64\n",
      " 5   lat                         69670 non-null   float64\n",
      " 6   lon                         69670 non-null   float64\n",
      " 7   price                       100810 non-null  float64\n",
      " 8   currency                    100809 non-null  object \n",
      " 9   price_aprox_local_currency  100810 non-null  float64\n",
      " 10  price_aprox_usd             100810 non-null  float64\n",
      " 11  surface_total_in_m2         81892 non-null   float64\n",
      " 12  surface_covered_in_m2       101313 non-null  float64\n",
      " 13  price_usd_per_m2            68617 non-null   float64\n",
      " 14  price_per_m2                87658 non-null   float64\n",
      " 15  floor                       7899 non-null    float64\n",
      " 16  rooms                       47390 non-null   float64\n",
      " 17  expenses                    14262 non-null   float64\n",
      " 18  description                 121218 non-null  object \n",
      " 19  title                       121220 non-null  object \n",
      "dtypes: float64(13), int64(1), object(6)\n",
      "memory usage: 18.5+ MB\n"
     ]
    }
   ],
   "source": [
    "properati_reduced.info()"
   ]
  },
  {
   "cell_type": "markdown",
   "metadata": {},
   "source": [
    "<a id=\"section_toc\"></a> \n",
    "\n",
    "Veamos como se distribuye la variable 'state_name'."
   ]
  },
  {
   "cell_type": "code",
   "execution_count": 11,
   "metadata": {},
   "outputs": [
    {
     "data": {
      "text/plain": [
       "Capital Federal                 32316\n",
       "Bs.As. G.B.A. Zona Norte        25560\n",
       "Bs.As. G.B.A. Zona Sur          13952\n",
       "Córdoba                         12069\n",
       "Santa Fe                        10172\n",
       "Buenos Aires Costa Atlántica    10006\n",
       "Bs.As. G.B.A. Zona Oeste         9322\n",
       "Buenos Aires Interior            2291\n",
       "Río Negro                         808\n",
       "Neuquén                           733\n",
       "Mendoza                           681\n",
       "Tucumán                           674\n",
       "Corrientes                        583\n",
       "Misiones                          464\n",
       "Entre Ríos                        369\n",
       "Salta                             278\n",
       "Chubut                            259\n",
       "San Luis                          252\n",
       "La Pampa                          157\n",
       "Formosa                            65\n",
       "Chaco                              57\n",
       "San Juan                           40\n",
       "Tierra Del Fuego                   31\n",
       "Catamarca                          27\n",
       "Jujuy                              26\n",
       "Santa Cruz                         20\n",
       "Santiago Del Estero                 4\n",
       "La Rioja                            4\n",
       "Name: state_name, dtype: int64"
      ]
     },
     "execution_count": 11,
     "metadata": {},
     "output_type": "execute_result"
    }
   ],
   "source": [
    "properati_reduced['state_name'].value_counts()"
   ]
  },
  {
   "cell_type": "markdown",
   "metadata": {},
   "source": [
    "<a id=\"section_toc\"></a> \n",
    "\n",
    "-------------------------------------------------------------------------------------------------------------------\n",
    "## **CAPITAL FEDERAL**\n",
    "\n",
    "Nuestro objetivo es analizar la Ciudad Autónoma de Buenos Aires, por lo que generamos un DataFrame con los datos que corresponden a la misma."
   ]
  },
  {
   "cell_type": "code",
   "execution_count": 12,
   "metadata": {},
   "outputs": [],
   "source": [
    "mask_caba = properati_reduced.state_name == \"Capital Federal\"\n",
    "properati_reduced_caba = properati_reduced.loc[mask_caba,:]"
   ]
  },
  {
   "cell_type": "markdown",
   "metadata": {},
   "source": [
    "<a id=\"section_toc\"></a> \n",
    "\n",
    "Veamos el tamaño del DataFrame."
   ]
  },
  {
   "cell_type": "code",
   "execution_count": 13,
   "metadata": {},
   "outputs": [
    {
     "name": "stdout",
     "output_type": "stream",
     "text": [
      "Cantidad de filas:  32316\n",
      "Cantidad de columnas:  20\n"
     ]
    }
   ],
   "source": [
    "print(\"Cantidad de filas: \", str(properati_reduced_caba.shape[0]))\n",
    "print(\"Cantidad de columnas: \", str(properati_reduced_caba.shape[1]))"
   ]
  },
  {
   "cell_type": "markdown",
   "metadata": {},
   "source": [
    "<a id=\"section_toc\"></a> \n",
    "\n",
    "\n",
    "Porcentaje de valores nulos por columna."
   ]
  },
  {
   "cell_type": "code",
   "execution_count": 14,
   "metadata": {},
   "outputs": [
    {
     "data": {
      "text/plain": [
       "Unnamed: 0                    0.00\n",
       "property_type                 0.00\n",
       "place_name                    0.00\n",
       "state_name                    0.00\n",
       "geonames_id                   0.04\n",
       "lat                           0.26\n",
       "lon                           0.26\n",
       "price                         0.10\n",
       "currency                      0.10\n",
       "price_aprox_local_currency    0.10\n",
       "price_aprox_usd               0.10\n",
       "surface_total_in_m2           0.18\n",
       "surface_covered_in_m2         0.07\n",
       "price_usd_per_m2              0.27\n",
       "price_per_m2                  0.15\n",
       "floor                         0.91\n",
       "rooms                         0.53\n",
       "expenses                      0.80\n",
       "description                   0.00\n",
       "title                         0.00\n",
       "dtype: float64"
      ]
     },
     "execution_count": 14,
     "metadata": {},
     "output_type": "execute_result"
    }
   ],
   "source": [
    "round(properati_reduced_caba.isnull().sum() / properati_reduced_caba.shape[0],2)"
   ]
  },
  {
   "cell_type": "markdown",
   "metadata": {},
   "source": [
    "<a id=\"section_toc\"></a> \n",
    "\n",
    "Veamos las características estadísticas básicas de cada columna."
   ]
  },
  {
   "cell_type": "code",
   "execution_count": 15,
   "metadata": {},
   "outputs": [
    {
     "data": {
      "text/html": [
       "<div>\n",
       "<style scoped>\n",
       "    .dataframe tbody tr th:only-of-type {\n",
       "        vertical-align: middle;\n",
       "    }\n",
       "\n",
       "    .dataframe tbody tr th {\n",
       "        vertical-align: top;\n",
       "    }\n",
       "\n",
       "    .dataframe thead th {\n",
       "        text-align: right;\n",
       "    }\n",
       "</style>\n",
       "<table border=\"1\" class=\"dataframe\">\n",
       "  <thead>\n",
       "    <tr style=\"text-align: right;\">\n",
       "      <th></th>\n",
       "      <th>Unnamed: 0</th>\n",
       "      <th>geonames_id</th>\n",
       "      <th>lat</th>\n",
       "      <th>lon</th>\n",
       "      <th>price</th>\n",
       "      <th>price_aprox_local_currency</th>\n",
       "      <th>price_aprox_usd</th>\n",
       "      <th>surface_total_in_m2</th>\n",
       "      <th>surface_covered_in_m2</th>\n",
       "      <th>price_usd_per_m2</th>\n",
       "      <th>price_per_m2</th>\n",
       "      <th>floor</th>\n",
       "      <th>rooms</th>\n",
       "      <th>expenses</th>\n",
       "    </tr>\n",
       "  </thead>\n",
       "  <tbody>\n",
       "    <tr>\n",
       "      <th>count</th>\n",
       "      <td>32316.0</td>\n",
       "      <td>31030.0</td>\n",
       "      <td>23770.0</td>\n",
       "      <td>23770.0</td>\n",
       "      <td>29018.0</td>\n",
       "      <td>29018.0</td>\n",
       "      <td>29018.0</td>\n",
       "      <td>26437.0</td>\n",
       "      <td>29977.0</td>\n",
       "      <td>23434.0</td>\n",
       "      <td>27324.0</td>\n",
       "      <td>3009.0</td>\n",
       "      <td>15325.0</td>\n",
       "      <td>6592.0</td>\n",
       "    </tr>\n",
       "    <tr>\n",
       "      <th>mean</th>\n",
       "      <td>61152.0</td>\n",
       "      <td>3528152.0</td>\n",
       "      <td>-35.0</td>\n",
       "      <td>-58.0</td>\n",
       "      <td>382952.0</td>\n",
       "      <td>4757013.0</td>\n",
       "      <td>269603.0</td>\n",
       "      <td>119.0</td>\n",
       "      <td>98.0</td>\n",
       "      <td>3117.0</td>\n",
       "      <td>6108.0</td>\n",
       "      <td>13.0</td>\n",
       "      <td>3.0</td>\n",
       "      <td>6357.0</td>\n",
       "    </tr>\n",
       "    <tr>\n",
       "      <th>std</th>\n",
       "      <td>34261.0</td>\n",
       "      <td>550474.0</td>\n",
       "      <td>0.0</td>\n",
       "      <td>0.0</td>\n",
       "      <td>1081570.0</td>\n",
       "      <td>8073753.0</td>\n",
       "      <td>457579.0</td>\n",
       "      <td>1248.0</td>\n",
       "      <td>1097.0</td>\n",
       "      <td>3681.0</td>\n",
       "      <td>23654.0</td>\n",
       "      <td>82.0</td>\n",
       "      <td>2.0</td>\n",
       "      <td>174189.0</td>\n",
       "    </tr>\n",
       "    <tr>\n",
       "      <th>min</th>\n",
       "      <td>0.0</td>\n",
       "      <td>3427366.0</td>\n",
       "      <td>-38.0</td>\n",
       "      <td>-64.0</td>\n",
       "      <td>5500.0</td>\n",
       "      <td>90051.0</td>\n",
       "      <td>5104.0</td>\n",
       "      <td>0.0</td>\n",
       "      <td>0.0</td>\n",
       "      <td>14.0</td>\n",
       "      <td>3.0</td>\n",
       "      <td>1.0</td>\n",
       "      <td>1.0</td>\n",
       "      <td>1.0</td>\n",
       "    </tr>\n",
       "    <tr>\n",
       "      <th>25%</th>\n",
       "      <td>31211.0</td>\n",
       "      <td>3429760.0</td>\n",
       "      <td>-35.0</td>\n",
       "      <td>-58.0</td>\n",
       "      <td>109000.0</td>\n",
       "      <td>1852672.0</td>\n",
       "      <td>105000.0</td>\n",
       "      <td>42.0</td>\n",
       "      <td>38.0</td>\n",
       "      <td>1966.0</td>\n",
       "      <td>2191.0</td>\n",
       "      <td>2.0</td>\n",
       "      <td>1.0</td>\n",
       "      <td>1200.0</td>\n",
       "    </tr>\n",
       "    <tr>\n",
       "      <th>50%</th>\n",
       "      <td>60876.0</td>\n",
       "      <td>3433775.0</td>\n",
       "      <td>-35.0</td>\n",
       "      <td>-58.0</td>\n",
       "      <td>165800.0</td>\n",
       "      <td>2774792.0</td>\n",
       "      <td>157261.0</td>\n",
       "      <td>62.0</td>\n",
       "      <td>55.0</td>\n",
       "      <td>2469.0</td>\n",
       "      <td>2777.0</td>\n",
       "      <td>4.0</td>\n",
       "      <td>3.0</td>\n",
       "      <td>2000.0</td>\n",
       "    </tr>\n",
       "    <tr>\n",
       "      <th>75%</th>\n",
       "      <td>87955.0</td>\n",
       "      <td>3436003.0</td>\n",
       "      <td>-35.0</td>\n",
       "      <td>-58.0</td>\n",
       "      <td>325000.0</td>\n",
       "      <td>5028682.0</td>\n",
       "      <td>285000.0</td>\n",
       "      <td>110.0</td>\n",
       "      <td>95.0</td>\n",
       "      <td>3077.0</td>\n",
       "      <td>3590.0</td>\n",
       "      <td>7.0</td>\n",
       "      <td>4.0</td>\n",
       "      <td>3800.0</td>\n",
       "    </tr>\n",
       "    <tr>\n",
       "      <th>max</th>\n",
       "      <td>121219.0</td>\n",
       "      <td>6693230.0</td>\n",
       "      <td>-35.0</td>\n",
       "      <td>-58.0</td>\n",
       "      <td>50000000.0</td>\n",
       "      <td>821271104.0</td>\n",
       "      <td>46545445.0</td>\n",
       "      <td>200000.0</td>\n",
       "      <td>187000.0</td>\n",
       "      <td>206333.0</td>\n",
       "      <td>2600000.0</td>\n",
       "      <td>2509.0</td>\n",
       "      <td>22.0</td>\n",
       "      <td>10001500.0</td>\n",
       "    </tr>\n",
       "  </tbody>\n",
       "</table>\n",
       "</div>"
      ],
      "text/plain": [
       "       Unnamed: 0  geonames_id      lat      lon       price  \\\n",
       "count     32316.0      31030.0  23770.0  23770.0     29018.0   \n",
       "mean      61152.0    3528152.0    -35.0    -58.0    382952.0   \n",
       "std       34261.0     550474.0      0.0      0.0   1081570.0   \n",
       "min           0.0    3427366.0    -38.0    -64.0      5500.0   \n",
       "25%       31211.0    3429760.0    -35.0    -58.0    109000.0   \n",
       "50%       60876.0    3433775.0    -35.0    -58.0    165800.0   \n",
       "75%       87955.0    3436003.0    -35.0    -58.0    325000.0   \n",
       "max      121219.0    6693230.0    -35.0    -58.0  50000000.0   \n",
       "\n",
       "       price_aprox_local_currency  price_aprox_usd  surface_total_in_m2  \\\n",
       "count                     29018.0          29018.0              26437.0   \n",
       "mean                    4757013.0         269603.0                119.0   \n",
       "std                     8073753.0         457579.0               1248.0   \n",
       "min                       90051.0           5104.0                  0.0   \n",
       "25%                     1852672.0         105000.0                 42.0   \n",
       "50%                     2774792.0         157261.0                 62.0   \n",
       "75%                     5028682.0         285000.0                110.0   \n",
       "max                   821271104.0       46545445.0             200000.0   \n",
       "\n",
       "       surface_covered_in_m2  price_usd_per_m2  price_per_m2   floor    rooms  \\\n",
       "count                29977.0           23434.0       27324.0  3009.0  15325.0   \n",
       "mean                    98.0            3117.0        6108.0    13.0      3.0   \n",
       "std                   1097.0            3681.0       23654.0    82.0      2.0   \n",
       "min                      0.0              14.0           3.0     1.0      1.0   \n",
       "25%                     38.0            1966.0        2191.0     2.0      1.0   \n",
       "50%                     55.0            2469.0        2777.0     4.0      3.0   \n",
       "75%                     95.0            3077.0        3590.0     7.0      4.0   \n",
       "max                 187000.0          206333.0     2600000.0  2509.0     22.0   \n",
       "\n",
       "         expenses  \n",
       "count      6592.0  \n",
       "mean       6357.0  \n",
       "std      174189.0  \n",
       "min           1.0  \n",
       "25%        1200.0  \n",
       "50%        2000.0  \n",
       "75%        3800.0  \n",
       "max    10001500.0  "
      ]
     },
     "execution_count": 15,
     "metadata": {},
     "output_type": "execute_result"
    }
   ],
   "source": [
    "round(properati_reduced_caba.describe(),0)"
   ]
  },
  {
   "cell_type": "code",
   "execution_count": 16,
   "metadata": {},
   "outputs": [
    {
     "data": {
      "text/html": [
       "<div>\n",
       "<style scoped>\n",
       "    .dataframe tbody tr th:only-of-type {\n",
       "        vertical-align: middle;\n",
       "    }\n",
       "\n",
       "    .dataframe tbody tr th {\n",
       "        vertical-align: top;\n",
       "    }\n",
       "\n",
       "    .dataframe thead th {\n",
       "        text-align: right;\n",
       "    }\n",
       "</style>\n",
       "<table border=\"1\" class=\"dataframe\">\n",
       "  <thead>\n",
       "    <tr style=\"text-align: right;\">\n",
       "      <th></th>\n",
       "      <th>property_type</th>\n",
       "      <th>place_name</th>\n",
       "      <th>state_name</th>\n",
       "      <th>currency</th>\n",
       "      <th>description</th>\n",
       "      <th>title</th>\n",
       "    </tr>\n",
       "  </thead>\n",
       "  <tbody>\n",
       "    <tr>\n",
       "      <th>count</th>\n",
       "      <td>32316</td>\n",
       "      <td>32316</td>\n",
       "      <td>32316</td>\n",
       "      <td>29018</td>\n",
       "      <td>32316</td>\n",
       "      <td>32316</td>\n",
       "    </tr>\n",
       "    <tr>\n",
       "      <th>unique</th>\n",
       "      <td>4</td>\n",
       "      <td>62</td>\n",
       "      <td>1</td>\n",
       "      <td>3</td>\n",
       "      <td>26094</td>\n",
       "      <td>18144</td>\n",
       "    </tr>\n",
       "    <tr>\n",
       "      <th>top</th>\n",
       "      <td>apartment</td>\n",
       "      <td>Belgrano</td>\n",
       "      <td>Capital Federal</td>\n",
       "      <td>USD</td>\n",
       "      <td>AVISO LEGAL: Las descripciones arquitectónicas...</td>\n",
       "      <td>DEPARTAMENTO EN VENTA</td>\n",
       "    </tr>\n",
       "    <tr>\n",
       "      <th>freq</th>\n",
       "      <td>27037</td>\n",
       "      <td>2992</td>\n",
       "      <td>32316</td>\n",
       "      <td>27826</td>\n",
       "      <td>358</td>\n",
       "      <td>2219</td>\n",
       "    </tr>\n",
       "  </tbody>\n",
       "</table>\n",
       "</div>"
      ],
      "text/plain": [
       "       property_type place_name       state_name currency  \\\n",
       "count          32316      32316            32316    29018   \n",
       "unique             4         62                1        3   \n",
       "top        apartment   Belgrano  Capital Federal      USD   \n",
       "freq           27037       2992            32316    27826   \n",
       "\n",
       "                                              description  \\\n",
       "count                                               32316   \n",
       "unique                                              26094   \n",
       "top     AVISO LEGAL: Las descripciones arquitectónicas...   \n",
       "freq                                                  358   \n",
       "\n",
       "                        title  \n",
       "count                   32316  \n",
       "unique                  18144  \n",
       "top     DEPARTAMENTO EN VENTA  \n",
       "freq                     2219  "
      ]
     },
     "execution_count": 16,
     "metadata": {},
     "output_type": "execute_result"
    }
   ],
   "source": [
    "properati_reduced_caba.describe(include=['object'])"
   ]
  },
  {
   "cell_type": "markdown",
   "metadata": {},
   "source": [
    "<a id=\"section_toc\"></a> \n",
    "\n",
    "---------------------------------------------------------------------------------\n",
    "\n",
    "### Variable 'price_per_m2'"
   ]
  },
  {
   "cell_type": "markdown",
   "metadata": {},
   "source": [
    "<a id=\"section_toc\"></a> \n",
    "Nuestro objetivo es disponer de una variable que mida el \"Precio por m2 en USD\"."
   ]
  },
  {
   "cell_type": "code",
   "execution_count": 17,
   "metadata": {},
   "outputs": [
    {
     "data": {
      "text/plain": [
       "USD    27826\n",
       "ARS     1190\n",
       "PEN        2\n",
       "Name: currency, dtype: int64"
      ]
     },
     "execution_count": 17,
     "metadata": {},
     "output_type": "execute_result"
    }
   ],
   "source": [
    "#Veamos como se distribuye 'currency' \n",
    "properati_reduced_caba['currency'].value_counts()"
   ]
  },
  {
   "cell_type": "code",
   "execution_count": 18,
   "metadata": {},
   "outputs": [
    {
     "data": {
      "text/plain": [
       "False    29018\n",
       "True      3298\n",
       "Name: currency, dtype: int64"
      ]
     },
     "execution_count": 18,
     "metadata": {},
     "output_type": "execute_result"
    }
   ],
   "source": [
    "#Veamos si 'currency' tiene nulls\n",
    "mask_currency_nulls = properati_reduced_caba.currency.isnull()\n",
    "mask_currency_nulls.value_counts()"
   ]
  },
  {
   "cell_type": "code",
   "execution_count": 19,
   "metadata": {},
   "outputs": [
    {
     "name": "stdout",
     "output_type": "stream",
     "text": [
      "(4490, 20)\n",
      "4490\n"
     ]
    }
   ],
   "source": [
    "#Generamos un DataFrame con los registros que no estan expresados en USD\n",
    "mask_currency_not_USD = properati_reduced_caba['currency'] != 'USD'\n",
    "properati_reduced_caba_2 = properati_reduced_caba.loc[mask_currency_not_USD,:]\n",
    "#Controlamos\n",
    "print(properati_reduced_caba_2.shape)\n",
    "#'currency' == 'ARS' + 'currency' == 'PEN' + 'currency' == nulls\n",
    "print(1190+2+3298)"
   ]
  },
  {
   "cell_type": "code",
   "execution_count": 20,
   "metadata": {},
   "outputs": [
    {
     "name": "stdout",
     "output_type": "stream",
     "text": [
      "Cantidad de registros sin dato en la variable 'price_usd_per_m2':  3486\n"
     ]
    }
   ],
   "source": [
    "#Vamos a imputar a estos regitros los valores de la variable 'price_usd_per_m2' generando una nueva varibale llamada 'price_per_m2_USD', veamos si disponemos del dato en 'price_usd_per_m2'\n",
    "print(\"Cantidad de registros sin dato en la variable 'price_usd_per_m2': \",str(properati_reduced_caba_2.price_usd_per_m2.isnull().sum()))"
   ]
  },
  {
   "cell_type": "code",
   "execution_count": 21,
   "metadata": {},
   "outputs": [
    {
     "name": "stdout",
     "output_type": "stream",
     "text": [
      "Cantidad de registros sin dato en la variable 'price_usd_per_m2':  0\n"
     ]
    }
   ],
   "source": [
    "#Eliminamos los registros que no tienen dato en 'price_usd_per_m2'\n",
    "properati_reduced_caba_3 = properati_reduced_caba_2.loc[properati_reduced_caba_2.price_usd_per_m2.notnull(),:]\n",
    "print(\"Cantidad de registros sin dato en la variable 'price_usd_per_m2': \",str(properati_reduced_caba_3.price_usd_per_m2.isnull().sum()))"
   ]
  },
  {
   "cell_type": "code",
   "execution_count": 22,
   "metadata": {},
   "outputs": [
    {
     "data": {
      "text/plain": [
       "(1004, 20)"
      ]
     },
     "execution_count": 22,
     "metadata": {},
     "output_type": "execute_result"
    }
   ],
   "source": [
    "properati_reduced_caba_3.shape"
   ]
  },
  {
   "cell_type": "code",
   "execution_count": 23,
   "metadata": {},
   "outputs": [],
   "source": [
    "import sys\n",
    "if not sys.warnoptions:\n",
    "    import warnings\n",
    "    warnings.simplefilter(\"ignore\")"
   ]
  },
  {
   "cell_type": "code",
   "execution_count": 24,
   "metadata": {},
   "outputs": [
    {
     "name": "stdout",
     "output_type": "stream",
     "text": [
      "1004\n"
     ]
    },
    {
     "data": {
      "text/html": [
       "<div>\n",
       "<style scoped>\n",
       "    .dataframe tbody tr th:only-of-type {\n",
       "        vertical-align: middle;\n",
       "    }\n",
       "\n",
       "    .dataframe tbody tr th {\n",
       "        vertical-align: top;\n",
       "    }\n",
       "\n",
       "    .dataframe thead th {\n",
       "        text-align: right;\n",
       "    }\n",
       "</style>\n",
       "<table border=\"1\" class=\"dataframe\">\n",
       "  <thead>\n",
       "    <tr style=\"text-align: right;\">\n",
       "      <th></th>\n",
       "      <th>price_usd_per_m2</th>\n",
       "      <th>price_per_m2_USD</th>\n",
       "    </tr>\n",
       "  </thead>\n",
       "  <tbody>\n",
       "    <tr>\n",
       "      <th>351</th>\n",
       "      <td>2283.540370</td>\n",
       "      <td>2283.540370</td>\n",
       "    </tr>\n",
       "    <tr>\n",
       "      <th>352</th>\n",
       "      <td>2312.765926</td>\n",
       "      <td>2312.765926</td>\n",
       "    </tr>\n",
       "    <tr>\n",
       "      <th>353</th>\n",
       "      <td>2342.428148</td>\n",
       "      <td>2342.428148</td>\n",
       "    </tr>\n",
       "    <tr>\n",
       "      <th>354</th>\n",
       "      <td>2372.090000</td>\n",
       "      <td>2372.090000</td>\n",
       "    </tr>\n",
       "    <tr>\n",
       "      <th>355</th>\n",
       "      <td>2326.622500</td>\n",
       "      <td>2326.622500</td>\n",
       "    </tr>\n",
       "    <tr>\n",
       "      <th>...</th>\n",
       "      <td>...</td>\n",
       "      <td>...</td>\n",
       "    </tr>\n",
       "    <tr>\n",
       "      <th>120424</th>\n",
       "      <td>2335.965143</td>\n",
       "      <td>2335.965143</td>\n",
       "    </tr>\n",
       "    <tr>\n",
       "      <th>120425</th>\n",
       "      <td>2305.038857</td>\n",
       "      <td>2305.038857</td>\n",
       "    </tr>\n",
       "    <tr>\n",
       "      <th>120426</th>\n",
       "      <td>2310.317353</td>\n",
       "      <td>2310.317353</td>\n",
       "    </tr>\n",
       "    <tr>\n",
       "      <th>120427</th>\n",
       "      <td>2310.317353</td>\n",
       "      <td>2310.317353</td>\n",
       "    </tr>\n",
       "    <tr>\n",
       "      <th>120428</th>\n",
       "      <td>2271.241316</td>\n",
       "      <td>2271.241316</td>\n",
       "    </tr>\n",
       "  </tbody>\n",
       "</table>\n",
       "<p>1004 rows × 2 columns</p>\n",
       "</div>"
      ],
      "text/plain": [
       "        price_usd_per_m2  price_per_m2_USD\n",
       "351          2283.540370       2283.540370\n",
       "352          2312.765926       2312.765926\n",
       "353          2342.428148       2342.428148\n",
       "354          2372.090000       2372.090000\n",
       "355          2326.622500       2326.622500\n",
       "...                  ...               ...\n",
       "120424       2335.965143       2335.965143\n",
       "120425       2305.038857       2305.038857\n",
       "120426       2310.317353       2310.317353\n",
       "120427       2310.317353       2310.317353\n",
       "120428       2271.241316       2271.241316\n",
       "\n",
       "[1004 rows x 2 columns]"
      ]
     },
     "execution_count": 24,
     "metadata": {},
     "output_type": "execute_result"
    }
   ],
   "source": [
    "#Generamos la variable 'price_per_m2_USD' con los valores de la variable 'price_usd_per_m2'\n",
    "properati_reduced_caba_3['price_per_m2_USD'] = properati_reduced_caba_3['price_usd_per_m2']\n",
    "#Controlamos\n",
    "print((properati_reduced_caba_3.price_per_m2_USD == properati_reduced_caba_3.price_usd_per_m2).sum())\n",
    "properati_reduced_caba_3[['price_usd_per_m2','price_per_m2_USD']]"
   ]
  },
  {
   "cell_type": "code",
   "execution_count": 25,
   "metadata": {},
   "outputs": [
    {
     "name": "stdout",
     "output_type": "stream",
     "text": [
      "(27826, 20)\n",
      "(27826, 21)\n",
      "Tamaño del DataFrame 'properati_reduced_caba':  (32316, 20)\n",
      "Tamaño del DataFrame 'properati_reduced_caba_USD' [1]:  (27826, 21)\n",
      "Tamaño del DataFrame 'properati_reduced_caba_3' [2]:  (1004, 21)\n",
      "Tamaño del DataFrame 'properati_reduced_caba_4'[[1]+[2]]:  (28830, 21)\n",
      "-------------------------------------\n",
      "DATAFRAME: properati_reduced_caba_4\n",
      "<class 'pandas.core.frame.DataFrame'>\n",
      "Int64Index: 28830 entries, 0 to 120428\n",
      "Data columns (total 21 columns):\n",
      " #   Column                      Non-Null Count  Dtype  \n",
      "---  ------                      --------------  -----  \n",
      " 0   Unnamed: 0                  28830 non-null  int64  \n",
      " 1   property_type               28830 non-null  object \n",
      " 2   place_name                  28830 non-null  object \n",
      " 3   state_name                  28830 non-null  object \n",
      " 4   geonames_id                 27675 non-null  float64\n",
      " 5   lat                         22027 non-null  float64\n",
      " 6   lon                         22027 non-null  float64\n",
      " 7   price                       28830 non-null  float64\n",
      " 8   currency                    28830 non-null  object \n",
      " 9   price_aprox_local_currency  28830 non-null  float64\n",
      " 10  price_aprox_usd             28830 non-null  float64\n",
      " 11  surface_total_in_m2         23447 non-null  float64\n",
      " 12  surface_covered_in_m2       27155 non-null  float64\n",
      " 13  price_usd_per_m2            23434 non-null  float64\n",
      " 14  price_per_m2                27153 non-null  float64\n",
      " 15  floor                       2895 non-null   float64\n",
      " 16  rooms                       14491 non-null  float64\n",
      " 17  expenses                    6346 non-null   float64\n",
      " 18  description                 28830 non-null  object \n",
      " 19  title                       28830 non-null  object \n",
      " 20  price_per_m2_USD            27161 non-null  float64\n",
      "dtypes: float64(14), int64(1), object(6)\n",
      "memory usage: 4.8+ MB\n"
     ]
    }
   ],
   "source": [
    "#Generamos un DataFrame con los registros con dato en USD en 'price_per_m2' \n",
    "properati_reduced_caba_USD = properati_reduced_caba.loc[properati_reduced_caba['currency'] == 'USD',:]\n",
    "#Contralamos\n",
    "print(properati_reduced_caba_USD.shape)\n",
    "#Generamos en este DataFrame la variable 'price_per_m2_USD' que será igual a 'price_per_m2'\n",
    "properati_reduced_caba_USD['price_per_m2_USD'] = properati_reduced_caba_USD['price_per_m2']\n",
    "#Controlamos\n",
    "print(properati_reduced_caba_USD.shape)\n",
    "#Concatenamos este DataFrames con el DataFrame anterior en el que generamos 'price_per_m2_USD'\n",
    "properati_reduced_caba_4 = pd.concat([properati_reduced_caba_USD,properati_reduced_caba_3])\n",
    "#Controlamos\n",
    "print(\"Tamaño del DataFrame 'properati_reduced_caba': \", str(properati_reduced_caba.shape))\n",
    "print(\"Tamaño del DataFrame 'properati_reduced_caba_USD' [1]: \", str(properati_reduced_caba_USD.shape))\n",
    "print(\"Tamaño del DataFrame 'properati_reduced_caba_3' [2]: \", str(properati_reduced_caba_3.shape))\n",
    "print(\"Tamaño del DataFrame 'properati_reduced_caba_4'[[1]+[2]]: \", str(properati_reduced_caba_4.shape))\n",
    "print(\"-------------------------------------\")\n",
    "print(\"DATAFRAME: properati_reduced_caba_4\")\n",
    "properati_reduced_caba_4.info()\n"
   ]
  },
  {
   "cell_type": "code",
   "execution_count": 26,
   "metadata": {},
   "outputs": [
    {
     "name": "stdout",
     "output_type": "stream",
     "text": [
      "3486\n"
     ]
    }
   ],
   "source": [
    "#Veamos en cuantos registros difieren el DataFrame original (properati_reduced_caba) y el nuevo que resulto de la concatenación anterior (properati_reduced_caba_4)\n",
    "print(properati_reduced_caba.shape[0]-properati_reduced_caba_4.shape[0])"
   ]
  },
  {
   "cell_type": "code",
   "execution_count": 27,
   "metadata": {},
   "outputs": [
    {
     "data": {
      "text/plain": [
       "3486"
      ]
     },
     "execution_count": 27,
     "metadata": {},
     "output_type": "execute_result"
    }
   ],
   "source": [
    "#Se compone de:\n",
    "#los regitros aue cumplen: 'currency' != 'USD' & 'price_usd_per_m2' == Null\n",
    "mask_not_usd = properati_reduced_caba.currency != 'USD'\n",
    "mask_price_usd_per_m2_null = properati_reduced_caba.price_usd_per_m2.isnull()\n",
    "mask_not_caba_4 = mask_not_usd & mask_price_usd_per_m2_null\n",
    "mask_not_caba_4.sum()\n",
    "#los regitros aue cumplen: 'currency' == 'PEN'\n",
    "#print(3298+186+2)"
   ]
  },
  {
   "cell_type": "code",
   "execution_count": 28,
   "metadata": {},
   "outputs": [
    {
     "name": "stdout",
     "output_type": "stream",
     "text": [
      "<class 'pandas.core.frame.DataFrame'>\n",
      "Int64Index: 3486 entries, 97 to 121052\n",
      "Data columns (total 20 columns):\n",
      " #   Column                      Non-Null Count  Dtype  \n",
      "---  ------                      --------------  -----  \n",
      " 0   Unnamed: 0                  3486 non-null   int64  \n",
      " 1   property_type               3486 non-null   object \n",
      " 2   place_name                  3486 non-null   object \n",
      " 3   state_name                  3486 non-null   object \n",
      " 4   geonames_id                 3355 non-null   float64\n",
      " 5   lat                         1743 non-null   float64\n",
      " 6   lon                         1743 non-null   float64\n",
      " 7   price                       188 non-null    float64\n",
      " 8   currency                    188 non-null    object \n",
      " 9   price_aprox_local_currency  188 non-null    float64\n",
      " 10  price_aprox_usd             188 non-null    float64\n",
      " 11  surface_total_in_m2         2990 non-null   float64\n",
      " 12  surface_covered_in_m2       2822 non-null   float64\n",
      " 13  price_usd_per_m2            0 non-null      float64\n",
      " 14  price_per_m2                171 non-null    float64\n",
      " 15  floor                       114 non-null    float64\n",
      " 16  rooms                       834 non-null    float64\n",
      " 17  expenses                    246 non-null    float64\n",
      " 18  description                 3486 non-null   object \n",
      " 19  title                       3486 non-null   object \n",
      "dtypes: float64(13), int64(1), object(6)\n",
      "memory usage: 571.9+ KB\n"
     ]
    }
   ],
   "source": [
    "#Generamos un DataFrame con estos 3486 registros \n",
    "properati_reduced_caba_5 = properati_reduced_caba.loc[mask_not_caba_4,:]\n",
    "#Controlamos\n",
    "properati_reduced_caba_5.shape\n",
    "properati_reduced_caba_5.info()"
   ]
  },
  {
   "cell_type": "code",
   "execution_count": 29,
   "metadata": {},
   "outputs": [
    {
     "data": {
      "text/plain": [
       "171"
      ]
     },
     "execution_count": 29,
     "metadata": {},
     "output_type": "execute_result"
    }
   ],
   "source": [
    "#Generamos 'price_per_m2_USD' como el cociente entre 'price_aprox_usd' y 'surface_covered_in_m2'\n",
    "properati_reduced_caba_5['price_per_m2_USD'] = properati_reduced_caba_5['price_aprox_usd'] / properati_reduced_caba_5['surface_covered_in_m2']\n",
    "properati_reduced_caba_5['price_per_m2_USD'].notnull().sum()"
   ]
  },
  {
   "cell_type": "code",
   "execution_count": 31,
   "metadata": {},
   "outputs": [
    {
     "name": "stdout",
     "output_type": "stream",
     "text": [
      "Tamaño del DataFrame 'properati_reduced_caba':  (32316, 20)\n",
      "Tamaño del DataFrame 'properati_reduced_caba_USD' [1]:  (27826, 21)\n",
      "Tamaño del DataFrame 'properati_reduced_caba_3' [2]:  (1004, 21)\n",
      "Tamaño del DataFrame 'properati_reduced_caba_4'[[3] = [1]+[2]]:  (28830, 21)\n",
      "Tamaño del DataFrame 'properati_reduced_caba_5' [4]:  (3486, 21)\n",
      "Tamaño del DataFrame 'properati_reduced_caba_6' = [3]+[4] :  (32316, 21)\n",
      "-------------------------------------\n",
      "DATAFRAME: properati_reduced_caba_6\n",
      "<class 'pandas.core.frame.DataFrame'>\n",
      "Int64Index: 32316 entries, 0 to 121052\n",
      "Data columns (total 21 columns):\n",
      " #   Column                      Non-Null Count  Dtype  \n",
      "---  ------                      --------------  -----  \n",
      " 0   Unnamed: 0                  32316 non-null  int64  \n",
      " 1   property_type               32316 non-null  object \n",
      " 2   place_name                  32316 non-null  object \n",
      " 3   state_name                  32316 non-null  object \n",
      " 4   geonames_id                 31030 non-null  float64\n",
      " 5   lat                         23770 non-null  float64\n",
      " 6   lon                         23770 non-null  float64\n",
      " 7   price                       29018 non-null  float64\n",
      " 8   currency                    29018 non-null  object \n",
      " 9   price_aprox_local_currency  29018 non-null  float64\n",
      " 10  price_aprox_usd             29018 non-null  float64\n",
      " 11  surface_total_in_m2         26437 non-null  float64\n",
      " 12  surface_covered_in_m2       29977 non-null  float64\n",
      " 13  price_usd_per_m2            23434 non-null  float64\n",
      " 14  price_per_m2                27324 non-null  float64\n",
      " 15  floor                       3009 non-null   float64\n",
      " 16  rooms                       15325 non-null  float64\n",
      " 17  expenses                    6592 non-null   float64\n",
      " 18  description                 32316 non-null  object \n",
      " 19  title                       32316 non-null  object \n",
      " 20  price_per_m2_USD            27332 non-null  float64\n",
      "dtypes: float64(14), int64(1), object(6)\n",
      "memory usage: 5.4+ MB\n"
     ]
    }
   ],
   "source": [
    "#Concatenamos este DataFrame al resultante de los procedimientos anteriores\n",
    "properati_reduced_caba_6 = pd.concat([properati_reduced_caba_4,properati_reduced_caba_5])\n",
    "#Controlamos\n",
    "print(\"Tamaño del DataFrame 'properati_reduced_caba': \", str(properati_reduced_caba.shape))\n",
    "print(\"Tamaño del DataFrame 'properati_reduced_caba_USD' [1]: \", str(properati_reduced_caba_USD.shape))\n",
    "print(\"Tamaño del DataFrame 'properati_reduced_caba_3' [2]: \", str(properati_reduced_caba_3.shape))\n",
    "print(\"Tamaño del DataFrame 'properati_reduced_caba_4'[[3] = [1]+[2]]: \", str(properati_reduced_caba_4.shape))\n",
    "print(\"Tamaño del DataFrame 'properati_reduced_caba_5' [4]: \", str(properati_reduced_caba_5.shape))\n",
    "print(\"Tamaño del DataFrame 'properati_reduced_caba_6' = [3]+[4] : \", str(properati_reduced_caba_6.shape))\n",
    "print(\"-------------------------------------\")\n",
    "print(\"DATAFRAME: properati_reduced_caba_6\")\n",
    "properati_reduced_caba_6.info()"
   ]
  },
  {
   "cell_type": "markdown",
   "metadata": {},
   "source": [
    "<a id=\"section_toc\"></a> \n",
    "\n",
    "Detección y limpieza de outliers\n",
    " \n",
    "    Higher side Outliers = Q3 + 1.5 * IQR\n",
    "\n",
    "    Lower side Outliers = Q1 – 1.5 * IQR\n",
    "\n",
    "    IQR = Q3 – Q1"
   ]
  },
  {
   "cell_type": "code",
   "execution_count": 32,
   "metadata": {},
   "outputs": [
    {
     "data": {
      "text/plain": [
       "(27332, 21)"
      ]
     },
     "execution_count": 32,
     "metadata": {},
     "output_type": "execute_result"
    }
   ],
   "source": [
    "# Generemos un DataFrame sin null en la variable 'price_per_m2_USD'\n",
    "properati_reduced_caba_7 = properati_reduced_caba_6.loc[properati_reduced_caba_6.price_per_m2_USD.notnull(),:]\n",
    "properati_reduced_caba_7.shape"
   ]
  },
  {
   "cell_type": "code",
   "execution_count": 33,
   "metadata": {},
   "outputs": [
    {
     "name": "stdout",
     "output_type": "stream",
     "text": [
      "Q1=  2157.82\n",
      "Q3= 3415.61\n",
      "IQR= 1257.79\n",
      "Higher side Outliers=  5302.29\n",
      "Lower side Outliers=  271.14\n"
     ]
    }
   ],
   "source": [
    "price_per_m2_USD_Q1 = properati_reduced_caba_7.price_per_m2_USD.quantile(0.25)\n",
    "price_per_m2_USD_Q3 = properati_reduced_caba_7.price_per_m2_USD.quantile(0.75)\n",
    "price_per_m2_USD_Q3_Q1 =  properati_reduced_caba_7.price_per_m2_USD.quantile(0.75) - properati_reduced_caba_7.price_per_m2_USD.quantile(0.25) \n",
    "\n",
    "higher_side_outliers = price_per_m2_USD_Q3 + (1.5 * price_per_m2_USD_Q3_Q1)\n",
    "lower_side_outliers = price_per_m2_USD_Q1 - (1.5 * price_per_m2_USD_Q3_Q1)\n",
    "\n",
    "print (\"Q1= \", str(round(price_per_m2_USD_Q1,2)))\n",
    "print (\"Q3=\", str(round(price_per_m2_USD_Q3,2)))\n",
    "print (\"IQR=\", str(round(price_per_m2_USD_Q3_Q1,2)))\n",
    "print (\"Higher side Outliers= \", str(round(higher_side_outliers,2)))\n",
    "print (\"Lower side Outliers= \", str(round(lower_side_outliers,2)))"
   ]
  },
  {
   "cell_type": "code",
   "execution_count": 34,
   "metadata": {},
   "outputs": [
    {
     "data": {
      "text/plain": [
       "False    25026\n",
       "True      2306\n",
       "Name: price_per_m2_USD, dtype: int64"
      ]
     },
     "execution_count": 34,
     "metadata": {},
     "output_type": "execute_result"
    }
   ],
   "source": [
    "mask_higher_outliers_price_per_m2_USD = properati_reduced_caba_7['price_per_m2_USD'] > higher_side_outliers\n",
    "mask_lower_outliers_price_per_m2_USD = properati_reduced_caba_7['price_per_m2_USD'] < lower_side_outliers\n",
    "mask_outliers_price_per_m2_USD = mask_higher_outliers_price_per_m2_USD | mask_lower_outliers_price_per_m2_USD\n",
    "mask_outliers_price_per_m2_USD.value_counts()"
   ]
  },
  {
   "cell_type": "code",
   "execution_count": 35,
   "metadata": {},
   "outputs": [
    {
     "name": "stdout",
     "output_type": "stream",
     "text": [
      "Porcentaje de Outliers en la variable 'precio_per_m2_USD':  8.44\n"
     ]
    }
   ],
   "source": [
    "print(\"Porcentaje de Outliers en la variable 'precio_per_m2_USD': \", str(round(properati_reduced_caba_7.loc[mask_outliers_price_per_m2_USD,:].price_per_m2_USD.shape[0]/properati_reduced_caba_7.price_per_m2_USD.shape[0]*100,2)))"
   ]
  },
  {
   "cell_type": "markdown",
   "metadata": {},
   "source": [
    "<a id=\"section_toc\"></a> \n",
    "\n",
    "Generamos un DataFrame \"limpio\" de outliers en la variable 'price_per_m2'"
   ]
  },
  {
   "cell_type": "code",
   "execution_count": 36,
   "metadata": {},
   "outputs": [
    {
     "data": {
      "text/plain": [
       "True     25026\n",
       "False     2306\n",
       "Name: price_per_m2_USD, dtype: int64"
      ]
     },
     "execution_count": 36,
     "metadata": {},
     "output_type": "execute_result"
    }
   ],
   "source": [
    "#Máscara booleana para not ouliers\n",
    "mask_higher_not_outliers_price_per_m2_USD = properati_reduced_caba_7['price_per_m2_USD'] <= higher_side_outliers\n",
    "mask_lower_not_outliers_price_per_m2_USD = properati_reduced_caba_7['price_per_m2_USD'] >= lower_side_outliers\n",
    "mask_not_outliers_price_per_m2_USD = mask_higher_not_outliers_price_per_m2_USD & mask_lower_not_outliers_price_per_m2_USD \n",
    "mask_not_outliers_price_per_m2_USD.value_counts()"
   ]
  },
  {
   "cell_type": "code",
   "execution_count": 39,
   "metadata": {},
   "outputs": [
    {
     "data": {
      "text/plain": [
       "(25026, 21)"
      ]
     },
     "execution_count": 39,
     "metadata": {},
     "output_type": "execute_result"
    }
   ],
   "source": [
    "#Generamos un DatFrame sin ouliers en 'price_per_m2_USD'\n",
    "properati_reduced_caba_8 = properati_reduced_caba_7.loc[mask_not_outliers_price_per_m2_USD,:]\n",
    "properati_reduced_caba_8.shape"
   ]
  },
  {
   "cell_type": "code",
   "execution_count": 41,
   "metadata": {},
   "outputs": [
    {
     "name": "stdout",
     "output_type": "stream",
     "text": [
      "<class 'pandas.core.frame.DataFrame'>\n",
      "Int64Index: 25026 entries, 0 to 114219\n",
      "Data columns (total 21 columns):\n",
      " #   Column                      Non-Null Count  Dtype  \n",
      "---  ------                      --------------  -----  \n",
      " 0   Unnamed: 0                  25026 non-null  int64  \n",
      " 1   property_type               25026 non-null  object \n",
      " 2   place_name                  25026 non-null  object \n",
      " 3   state_name                  25026 non-null  object \n",
      " 4   geonames_id                 24051 non-null  float64\n",
      " 5   lat                         19677 non-null  float64\n",
      " 6   lon                         19677 non-null  float64\n",
      " 7   price                       25026 non-null  float64\n",
      " 8   currency                    25026 non-null  object \n",
      " 9   price_aprox_local_currency  25026 non-null  float64\n",
      " 10  price_aprox_usd             25026 non-null  float64\n",
      " 11  surface_total_in_m2         20431 non-null  float64\n",
      " 12  surface_covered_in_m2       25019 non-null  float64\n",
      " 13  price_usd_per_m2            20431 non-null  float64\n",
      " 14  price_per_m2                25019 non-null  float64\n",
      " 15  floor                       2803 non-null   float64\n",
      " 16  rooms                       12736 non-null  float64\n",
      " 17  expenses                    5672 non-null   float64\n",
      " 18  description                 25026 non-null  object \n",
      " 19  title                       25026 non-null  object \n",
      " 20  price_per_m2_USD            25026 non-null  float64\n",
      "dtypes: float64(14), int64(1), object(6)\n",
      "memory usage: 4.2+ MB\n"
     ]
    }
   ],
   "source": [
    "properati_reduced_caba_8.info()"
   ]
  },
  {
   "cell_type": "code",
   "execution_count": 42,
   "metadata": {},
   "outputs": [
    {
     "name": "stdout",
     "output_type": "stream",
     "text": [
      "<class 'pandas.core.frame.DataFrame'>\n",
      "Int64Index: 30010 entries, 0 to 121052\n",
      "Data columns (total 21 columns):\n",
      " #   Column                      Non-Null Count  Dtype  \n",
      "---  ------                      --------------  -----  \n",
      " 0   Unnamed: 0                  30010 non-null  int64  \n",
      " 1   property_type               30010 non-null  object \n",
      " 2   place_name                  30010 non-null  object \n",
      " 3   state_name                  30010 non-null  object \n",
      " 4   geonames_id                 28842 non-null  float64\n",
      " 5   lat                         22403 non-null  float64\n",
      " 6   lon                         22403 non-null  float64\n",
      " 7   price                       26712 non-null  float64\n",
      " 8   currency                    26712 non-null  object \n",
      " 9   price_aprox_local_currency  26712 non-null  float64\n",
      " 10  price_aprox_usd             26712 non-null  float64\n",
      " 11  surface_total_in_m2         24543 non-null  float64\n",
      " 12  surface_covered_in_m2       27672 non-null  float64\n",
      " 13  price_usd_per_m2            21540 non-null  float64\n",
      " 14  price_per_m2                25019 non-null  float64\n",
      " 15  floor                       2953 non-null   float64\n",
      " 16  rooms                       13790 non-null  float64\n",
      " 17  expenses                    6341 non-null   float64\n",
      " 18  description                 30010 non-null  object \n",
      " 19  title                       30010 non-null  object \n",
      " 20  price_per_m2_USD            25026 non-null  float64\n",
      "dtypes: float64(14), int64(1), object(6)\n",
      "memory usage: 5.0+ MB\n"
     ]
    }
   ],
   "source": [
    "# Generemos un DataFrame con los null en la variable 'price_per_m2_USD'\n",
    "properati_reduced_caba_9 = properati_reduced_caba_6.loc[properati_reduced_caba_6.price_per_m2_USD.isnull(),:]\n",
    "#Generamos un DataFrame limpio de outliers en la variable 'price_per_m2_USD' incluyendo los null de la misma variable.\n",
    "properati_reduce_caba_clean_outliers = pd.concat([properati_reduced_caba_8,properati_reduced_caba_9])\n",
    "properati_reduce_caba_clean_outliers.info()"
   ]
  },
  {
   "cell_type": "code",
   "execution_count": 43,
   "metadata": {},
   "outputs": [
    {
     "name": "stdout",
     "output_type": "stream",
     "text": [
      "30010\n",
      "Porcentaje de null en 'price_per_m2_USD' (%):  16.61\n",
      "<class 'pandas.core.frame.DataFrame'>\n",
      "Int64Index: 30010 entries, 0 to 121052\n",
      "Data columns (total 21 columns):\n",
      " #   Column                      Non-Null Count  Dtype  \n",
      "---  ------                      --------------  -----  \n",
      " 0   Unnamed: 0                  30010 non-null  int64  \n",
      " 1   property_type               30010 non-null  object \n",
      " 2   place_name                  30010 non-null  object \n",
      " 3   state_name                  30010 non-null  object \n",
      " 4   geonames_id                 28842 non-null  float64\n",
      " 5   lat                         22403 non-null  float64\n",
      " 6   lon                         22403 non-null  float64\n",
      " 7   price                       26712 non-null  float64\n",
      " 8   currency                    26712 non-null  object \n",
      " 9   price_aprox_local_currency  26712 non-null  float64\n",
      " 10  price_aprox_usd             26712 non-null  float64\n",
      " 11  surface_total_in_m2         24543 non-null  float64\n",
      " 12  surface_covered_in_m2       27672 non-null  float64\n",
      " 13  price_usd_per_m2            21540 non-null  float64\n",
      " 14  price_per_m2                25019 non-null  float64\n",
      " 15  floor                       2953 non-null   float64\n",
      " 16  rooms                       13790 non-null  float64\n",
      " 17  expenses                    6341 non-null   float64\n",
      " 18  description                 30010 non-null  object \n",
      " 19  title                       30010 non-null  object \n",
      " 20  price_per_m2_USD            30010 non-null  float64\n",
      "dtypes: float64(14), int64(1), object(6)\n",
      "memory usage: 5.0+ MB\n"
     ]
    }
   ],
   "source": [
    "# Vamos completar los valores nulos de 'price_per_ms_USD', asignando la media agrupando por barrio y tipo de propiedad.\n",
    "# groupby no arma grupos definidos por nulos. Controlamos.\n",
    "print(np.logical_and(properati_reduce_caba_clean_outliers.place_name.notnull(), properati_reduce_caba_clean_outliers.property_type.notnull()).sum())\n",
    "data_grouped_place_property = properati_reduce_caba_clean_outliers.groupby(['place_name','property_type'])\n",
    "#Veamos el porcentaje de null en 'price_per_m2_USD'\n",
    "print(\"Porcentaje de null en 'price_per_m2_USD' (%): \",str(((properati_reduce_caba_clean_outliers['price_per_m2_USD'].isnull().sum() / properati_reduce_caba_clean_outliers.shape[0])*100).round(2)))\n",
    "#Completamos los null\n",
    "properati_reduce_caba_clean_outliers['price_per_m2_USD']  = data_grouped_place_property['price_per_m2_USD'].transform(lambda grp: grp.fillna(grp.mean()))\n",
    "#print(data_filled.isnull().sum())\n",
    "#Controlamos que efectivamente solo completó los null\n",
    "properati_reduce_caba_clean_outliers.info()\n",
    "#properati_reduce_caba_clean_outliers.price_per_m2_USD.isnull().sum()"
   ]
  },
  {
   "cell_type": "markdown",
   "metadata": {},
   "source": [
    "<a id=\"section_toc\"></a> \n",
    "\n",
    "--------------------------------------------------------------------------------------------------------------------------------------\n",
    "\n",
    "### Variable 'floor'"
   ]
  },
  {
   "cell_type": "code",
   "execution_count": 44,
   "metadata": {},
   "outputs": [
    {
     "data": {
      "text/plain": [
       "1.0       578\n",
       "2.0       484\n",
       "3.0       359\n",
       "4.0       287\n",
       "5.0       228\n",
       "         ... \n",
       "1104.0      1\n",
       "63.0        1\n",
       "907.0       1\n",
       "130.0       1\n",
       "407.0       1\n",
       "Name: floor, Length: 83, dtype: int64"
      ]
     },
     "execution_count": 44,
     "metadata": {},
     "output_type": "execute_result"
    }
   ],
   "source": [
    "properati_reduce_caba_clean_outliers.floor.value_counts()"
   ]
  },
  {
   "cell_type": "markdown",
   "metadata": {},
   "source": [
    "<a id=\"section_toc\"></a> \n",
    "\n",
    "Detección y limpieza de outliers\n",
    " \n",
    "    Higher side Outliers = Q3 + 1.5 * IQR\n",
    "\n",
    "    Lower side Outliers = Q1 – 1.5 * IQR\n",
    "\n",
    "    IQR = Q3 – Q1"
   ]
  },
  {
   "cell_type": "code",
   "execution_count": 45,
   "metadata": {},
   "outputs": [
    {
     "name": "stdout",
     "output_type": "stream",
     "text": [
      "Q1=  2.0\n",
      "Q3= 7.0\n",
      "IQR= 5.0\n",
      "Higher side Outliers=  14.0\n",
      "Lower side Outliers=  1\n"
     ]
    }
   ],
   "source": [
    "floor_Q1 = round(properati_reduce_caba_clean_outliers.floor.quantile(0.25),0)\n",
    "floor_Q3 = round(properati_reduce_caba_clean_outliers.floor.quantile(0.75),0)\n",
    "floor_Q3_Q1 =  round(properati_reduce_caba_clean_outliers.floor.quantile(0.75) - properati_reduce_caba_clean_outliers.floor.quantile(0.25),0) \n",
    "\n",
    "higher_side_outliers_floor = round(floor_Q3 + (1.5 * floor_Q3_Q1),0)\n",
    "lower_side_outliers_floor = 1\n",
    "\n",
    "print (\"Q1= \", str(round(floor_Q1,2)))\n",
    "print (\"Q3=\", str(round(floor_Q3,2)))\n",
    "print (\"IQR=\", str(round(floor_Q3_Q1,2)))\n",
    "print (\"Higher side Outliers= \", str(round(higher_side_outliers_floor,2)))\n",
    "print (\"Lower side Outliers= \", str(round(lower_side_outliers_floor,2)))"
   ]
  },
  {
   "cell_type": "code",
   "execution_count": 46,
   "metadata": {},
   "outputs": [
    {
     "data": {
      "text/plain": [
       "True     27057\n",
       "False     2953\n",
       "Name: floor, dtype: int64"
      ]
     },
     "execution_count": 46,
     "metadata": {},
     "output_type": "execute_result"
    }
   ],
   "source": [
    "#Cantidad de nulls en 'floor'\n",
    "mask_floor_nulls = properati_reduce_caba_clean_outliers.floor.isnull()\n",
    "mask_floor_nulls.value_counts()"
   ]
  },
  {
   "cell_type": "code",
   "execution_count": 47,
   "metadata": {},
   "outputs": [
    {
     "data": {
      "text/plain": [
       "False    27057\n",
       "True      2953\n",
       "Name: floor, dtype: int64"
      ]
     },
     "execution_count": 47,
     "metadata": {},
     "output_type": "execute_result"
    }
   ],
   "source": [
    "#Control: cantidad de not nulls en 'floor'\n",
    "mask_floor_not_nulls = properati_reduce_caba_clean_outliers.floor.notnull()\n",
    "mask_floor_not_nulls.value_counts()"
   ]
  },
  {
   "cell_type": "code",
   "execution_count": 48,
   "metadata": {},
   "outputs": [
    {
     "name": "stdout",
     "output_type": "stream",
     "text": [
      "(30010, 21)\n",
      "(2953, 21)\n"
     ]
    }
   ],
   "source": [
    "#Generamos un DataFrame sin nulls en 'floor' (para que funcionen las máscaras de outliers)\n",
    "properati_reduce_caba_clean_outliers_not_nulls_floor = properati_reduce_caba_clean_outliers.loc[mask_floor_not_nulls,:]\n",
    "print(properati_reduce_caba_clean_outliers.shape)\n",
    "print(properati_reduce_caba_clean_outliers_not_nulls_floor.shape)"
   ]
  },
  {
   "cell_type": "code",
   "execution_count": 49,
   "metadata": {},
   "outputs": [
    {
     "data": {
      "text/plain": [
       "False    2804\n",
       "True      149\n",
       "Name: floor, dtype: int64"
      ]
     },
     "execution_count": 49,
     "metadata": {},
     "output_type": "execute_result"
    }
   ],
   "source": [
    "#Máscaras para outliers\n",
    "mask_higher_outliers_floor = properati_reduce_caba_clean_outliers_not_nulls_floor['floor'] > higher_side_outliers_floor\n",
    "mask_lower_outliers_floor = properati_reduce_caba_clean_outliers_not_nulls_floor['floor'] < lower_side_outliers_floor\n",
    "mask_outliers_floor = mask_higher_outliers_floor | mask_lower_outliers_floor \n",
    "mask_outliers_floor.value_counts()"
   ]
  },
  {
   "cell_type": "code",
   "execution_count": 50,
   "metadata": {},
   "outputs": [
    {
     "name": "stdout",
     "output_type": "stream",
     "text": [
      "Porcentaje de Outliers en la variable 'floor'(%):  5.05\n"
     ]
    }
   ],
   "source": [
    "print(\"Porcentaje de Outliers en la variable 'floor'(%): \", str(round(properati_reduce_caba_clean_outliers_not_nulls_floor.loc[mask_outliers_floor,:].floor.shape[0]/properati_reduce_caba_clean_outliers_not_nulls_floor.floor.shape[0]*100,2)))"
   ]
  },
  {
   "cell_type": "code",
   "execution_count": 51,
   "metadata": {},
   "outputs": [
    {
     "data": {
      "text/plain": [
       "True     2804\n",
       "False     149\n",
       "Name: floor, dtype: int64"
      ]
     },
     "execution_count": 51,
     "metadata": {},
     "output_type": "execute_result"
    }
   ],
   "source": [
    "#Máscaras para not outliers\n",
    "mask_higher_not_outliers_floor = properati_reduce_caba_clean_outliers_not_nulls_floor['floor'] <= higher_side_outliers_floor\n",
    "mask_lower_not_outliers_floor = properati_reduce_caba_clean_outliers_not_nulls_floor['floor'] >= lower_side_outliers_floor\n",
    "mask_not_outliers_floor = mask_higher_not_outliers_floor & mask_lower_not_outliers_floor \n",
    "mask_not_outliers_floor.value_counts()"
   ]
  },
  {
   "cell_type": "code",
   "execution_count": 52,
   "metadata": {},
   "outputs": [
    {
     "data": {
      "text/plain": [
       "(2804, 21)"
      ]
     },
     "execution_count": 52,
     "metadata": {},
     "output_type": "execute_result"
    }
   ],
   "source": [
    "#Generamos un Data Frame sin nulls y sin ouliers en 'floor'\n",
    "properati_reduce_caba_clean_outliers_floor = properati_reduce_caba_clean_outliers_not_nulls_floor.loc[mask_not_outliers_floor,:]\n",
    "properati_reduce_caba_clean_outliers_floor.shape"
   ]
  },
  {
   "cell_type": "markdown",
   "metadata": {},
   "source": [
    "<a id=\"section_toc\"></a> \n",
    "\n",
    "-----------------------------------------------------------\n",
    "\n",
    "### Variable \"rooms\"\n",
    "\n",
    "Generamos una variable 'Rooms_Clean_Ok'"
   ]
  },
  {
   "cell_type": "code",
   "execution_count": 53,
   "metadata": {},
   "outputs": [],
   "source": [
    "#Generamos una funcion para rellenar los NaN de distitnas columnas. Crea una nueva columna no rellena. \n",
    "def Rellenar_NaN (data,serie,nombre_columna,columna_fill):\n",
    "    'creates new column with a new serie.NaNs are filled with another column from the same dataFrame'\n",
    "    data[\"temporal\"] = serie\n",
    "    data[nombre_columna] = data[\"temporal\"].fillna(data[columna_fill])\n",
    "    data.drop(\"temporal\",axis=1,inplace = True)"
   ]
  },
  {
   "cell_type": "code",
   "execution_count": 54,
   "metadata": {},
   "outputs": [],
   "source": [
    "#Generamos una serie con el dato de ambientes numérico\n",
    "patern_rooms_numericos = '(?P<ambientes>\\\\d+\\s?amb|\\d+\\s?ambientes)'\n",
    "regex_rooms_numericos = re.compile(patern_rooms_numericos,flags=re.IGNORECASE)\n",
    "matches_rooms_numericos = properati_reduce_caba_clean_outliers.title.apply(lambda x: x if x is np.NaN else regex_rooms_numericos.search(x))\n",
    "matches_rooms_numericos.fillna(0,inplace=True)\n",
    "maskRooms = matches_rooms_numericos != 0\n",
    "SinNullRoomsNumericos = matches_rooms_numericos[maskRooms]\n",
    "SerieRooms = SinNullRoomsNumericos.apply(lambda x: x.group('ambientes'))\n",
    "PatternEraseAmb = '\\s?ambiente|\\s?amb'\n",
    "cadena_reemplazo = \"\"\n",
    "PatternEraseAmb_regex = re.compile (PatternEraseAmb,flags=re.IGNORECASE)\n",
    "SerieRoomsNumericaLimpia = SerieRooms.apply(lambda x: PatternEraseAmb_regex.sub(cadena_reemplazo, x)).astype(int)"
   ]
  },
  {
   "cell_type": "code",
   "execution_count": 55,
   "metadata": {},
   "outputs": [],
   "source": [
    "#Generamos una serie con los números de ambientes escritos\n",
    "Dic_rooms = {'Mono' : 1,'Un' : 1 ,'Dos' : 2 , 'Tres' : 3, \"Cuatro\"  : 4 , \"Cinco\" : 5 , \"Seis\" : 6 , 'Siete' : 7 , \"Ocho\" : 8, \"Nueve\" : 9 , \"Diez\" : 10}\n",
    "properati_reduce_caba_clean_outliers.title\n",
    "patern_rooms_writen = '(?P<ambientes_W>\\\\s[a-z]*\\samb\\s?|\\s[a-z]*\\sambientes\\s?|\\s?monoambiente\\s?)'\n",
    "regex_patern_rooms_writen = re.compile(patern_rooms_writen,flags=re.IGNORECASE)\n",
    "matches_rooms_written = properati_reduce_caba_clean_outliers.title.apply(lambda x: x if x is np.NaN else regex_patern_rooms_writen.search(x))\n",
    "matches_rooms_written.fillna(0,inplace=True)\n",
    "maskRoomsWritten = matches_rooms_written != 0\n",
    "SinNullRoomsWritten = matches_rooms_written[maskRoomsWritten]\n",
    "SerieRoomsWritten = SinNullRoomsWritten.apply(lambda x: x.group('ambientes_W'))\n",
    "PatternEraseAmbWritten = '\\s?ambiente|\\s?amb'\n",
    "cadena_reemplazo = \"\"\n",
    "PatternEraseAmbWritten_regex = re.compile (PatternEraseAmbWritten)\n",
    "SerieRoomsWrittenLimpia = SerieRoomsWritten.apply(lambda x: PatternEraseAmb_regex.sub(cadena_reemplazo, x))\n",
    "PatternEraseAmbWrittenEspacio = ' *'\n",
    "PatternEraseAmbWrittenEspacio_regex = re.compile (PatternEraseAmbWrittenEspacio,flags=re.IGNORECASE)\n",
    "SerieRoomsWrittenLimpiaSinEspacios = SerieRoomsWrittenLimpia.apply(lambda x: PatternEraseAmbWrittenEspacio_regex.sub(cadena_reemplazo, x))"
   ]
  },
  {
   "cell_type": "code",
   "execution_count": 56,
   "metadata": {},
   "outputs": [],
   "source": [
    "#Reemplamos los strings por sus valores correspondientes\n",
    "Serie_Cap = SerieRoomsWrittenLimpiaSinEspacios.str.capitalize()\n",
    "for x, y in Dic_rooms.items():\n",
    "    Serie_Cap = Serie_Cap.replace(x, y)     \n",
    "#Nos quedamos solo con los valores numéricos\n",
    "Pattern_Only_Digits = \"(?P<numeros>\\d+)\"\n",
    "Pattern_Only_Digits_regex = re.compile(Pattern_Only_Digits)\n",
    "MatchesNumString = Serie_Cap.apply(str)\n",
    "MatchesNum = MatchesNumString.apply(lambda x: x if x is np.NaN else Pattern_Only_Digits_regex.search(x))\n",
    "MatchesNum.fillna(0,inplace = True)\n",
    "maskRoomsWrittenNumbers = MatchesNum != 0\n",
    "Sin_Null_Num_Written = MatchesNum[maskRoomsWrittenNumbers]\n",
    "SerieRoomsWritten_Num = Sin_Null_Num_Written.apply(lambda x: x.group('numeros')).astype(int)"
   ]
  },
  {
   "cell_type": "code",
   "execution_count": 57,
   "metadata": {},
   "outputs": [],
   "source": [
    "#Generamos una nueva columna en el DataFrame principal\n",
    "Rellenar_NaN (properati_reduce_caba_clean_outliers,SerieRoomsNumericaLimpia,'Rooms_Clean','rooms')\n",
    "Rellenar_NaN (properati_reduce_caba_clean_outliers,SerieRoomsWritten_Num,'Rooms_Clean_Ok','Rooms_Clean')\n",
    "properati_reduce_caba_clean_outliers.drop('Rooms_Clean', axis = 1 , inplace = True)"
   ]
  },
  {
   "cell_type": "code",
   "execution_count": 58,
   "metadata": {},
   "outputs": [
    {
     "name": "stdout",
     "output_type": "stream",
     "text": [
      "<class 'pandas.core.frame.DataFrame'>\n",
      "Int64Index: 30010 entries, 0 to 121052\n",
      "Data columns (total 22 columns):\n",
      " #   Column                      Non-Null Count  Dtype  \n",
      "---  ------                      --------------  -----  \n",
      " 0   Unnamed: 0                  30010 non-null  int64  \n",
      " 1   property_type               30010 non-null  object \n",
      " 2   place_name                  30010 non-null  object \n",
      " 3   state_name                  30010 non-null  object \n",
      " 4   geonames_id                 28842 non-null  float64\n",
      " 5   lat                         22403 non-null  float64\n",
      " 6   lon                         22403 non-null  float64\n",
      " 7   price                       26712 non-null  float64\n",
      " 8   currency                    26712 non-null  object \n",
      " 9   price_aprox_local_currency  26712 non-null  float64\n",
      " 10  price_aprox_usd             26712 non-null  float64\n",
      " 11  surface_total_in_m2         24543 non-null  float64\n",
      " 12  surface_covered_in_m2       27672 non-null  float64\n",
      " 13  price_usd_per_m2            21540 non-null  float64\n",
      " 14  price_per_m2                25019 non-null  float64\n",
      " 15  floor                       2953 non-null   float64\n",
      " 16  rooms                       13790 non-null  float64\n",
      " 17  expenses                    6341 non-null   float64\n",
      " 18  description                 30010 non-null  object \n",
      " 19  title                       30010 non-null  object \n",
      " 20  price_per_m2_USD            30010 non-null  float64\n",
      " 21  Rooms_Clean_Ok              18727 non-null  float64\n",
      "dtypes: float64(15), int64(1), object(6)\n",
      "memory usage: 5.3+ MB\n"
     ]
    }
   ],
   "source": [
    "properati_reduce_caba_clean_outliers.info()"
   ]
  },
  {
   "cell_type": "code",
   "execution_count": 59,
   "metadata": {},
   "outputs": [
    {
     "data": {
      "text/plain": [
       "2.0       4761\n",
       "1.0       4728\n",
       "3.0       4547\n",
       "4.0       3017\n",
       "5.0       1036\n",
       "6.0        335\n",
       "7.0        169\n",
       "8.0         60\n",
       "9.0         23\n",
       "10.0        22\n",
       "12.0         9\n",
       "11.0         9\n",
       "17.0         3\n",
       "15.0         2\n",
       "14.0         2\n",
       "22.0         1\n",
       "4000.0       1\n",
       "18.0         1\n",
       "13.0         1\n",
       "Name: Rooms_Clean_Ok, dtype: int64"
      ]
     },
     "execution_count": 59,
     "metadata": {},
     "output_type": "execute_result"
    }
   ],
   "source": [
    "properati_reduce_caba_clean_outliers.Rooms_Clean_Ok.value_counts()"
   ]
  },
  {
   "cell_type": "markdown",
   "metadata": {},
   "source": [
    "<a id=\"section_toc\"></a> \n",
    "\n",
    "Detección y limpieza de outliers\n",
    " \n",
    "    Higher side Outliers = Q3 + 1.5 * IQR\n",
    "\n",
    "    Lower side Outliers = Q1 – 1.5 * IQR\n",
    "\n",
    "    IQR = Q3 – Q1"
   ]
  },
  {
   "cell_type": "code",
   "execution_count": 60,
   "metadata": {},
   "outputs": [
    {
     "name": "stdout",
     "output_type": "stream",
     "text": [
      "Q1=  1.0\n",
      "Q3= 4.0\n",
      "IQR= 3.0\n",
      "Higher side Outliers=  8.0\n",
      "Lower side Outliers=  1\n"
     ]
    }
   ],
   "source": [
    "rooms_Q1 = round(properati_reduce_caba_clean_outliers.Rooms_Clean_Ok.quantile(0.25),0)\n",
    "rooms_Q3 = round(properati_reduce_caba_clean_outliers.Rooms_Clean_Ok.quantile(0.75),0)\n",
    "rooms_Q3_Q1 =  round(properati_reduce_caba_clean_outliers.Rooms_Clean_Ok.quantile(0.75) - properati_reduce_caba_clean_outliers.Rooms_Clean_Ok.quantile(0.25),0) \n",
    "\n",
    "higher_side_outliers_rooms = round(rooms_Q3 + (1.5 * rooms_Q3_Q1),0)\n",
    "lower_side_outliers_rooms = 1\n",
    "\n",
    "print (\"Q1= \", str(round(rooms_Q1,2)))\n",
    "print (\"Q3=\", str(round(rooms_Q3,2)))\n",
    "print (\"IQR=\", str(round(rooms_Q3_Q1,2)))\n",
    "print (\"Higher side Outliers= \", str(round(higher_side_outliers_rooms,2)))\n",
    "print (\"Lower side Outliers= \", str(round(lower_side_outliers_rooms,2)))"
   ]
  },
  {
   "cell_type": "code",
   "execution_count": 61,
   "metadata": {},
   "outputs": [
    {
     "data": {
      "text/plain": [
       "False    18727\n",
       "True     11283\n",
       "Name: Rooms_Clean_Ok, dtype: int64"
      ]
     },
     "execution_count": 61,
     "metadata": {},
     "output_type": "execute_result"
    }
   ],
   "source": [
    "#Cantidad de nulls en 'Rooms_Clean_Ok'\n",
    "mask_rooms_nulls = properati_reduce_caba_clean_outliers.Rooms_Clean_Ok.isnull()\n",
    "mask_rooms_nulls.value_counts()"
   ]
  },
  {
   "cell_type": "code",
   "execution_count": 62,
   "metadata": {},
   "outputs": [
    {
     "data": {
      "text/plain": [
       "True     18727\n",
       "False    11283\n",
       "Name: Rooms_Clean_Ok, dtype: int64"
      ]
     },
     "execution_count": 62,
     "metadata": {},
     "output_type": "execute_result"
    }
   ],
   "source": [
    "#Control: cantidad de not nulls en 'Rooms_Clean_Ok'\n",
    "mask_rooms_not_nulls = properati_reduce_caba_clean_outliers.Rooms_Clean_Ok.notnull()\n",
    "mask_rooms_not_nulls.value_counts()"
   ]
  },
  {
   "cell_type": "code",
   "execution_count": 63,
   "metadata": {},
   "outputs": [
    {
     "name": "stdout",
     "output_type": "stream",
     "text": [
      "(30010, 22)\n",
      "(18727, 22)\n"
     ]
    }
   ],
   "source": [
    "#Generamos un DataFrame sin nulls en 'rooms' (para que funcionen las máscaras de outliers)\n",
    "properati_reduce_caba_clean_outliers_not_nulls_rooms = properati_reduce_caba_clean_outliers.loc[mask_rooms_not_nulls,:]\n",
    "print(properati_reduce_caba_clean_outliers.shape)\n",
    "print(properati_reduce_caba_clean_outliers_not_nulls_rooms.shape)"
   ]
  },
  {
   "cell_type": "code",
   "execution_count": 64,
   "metadata": {},
   "outputs": [
    {
     "data": {
      "text/plain": [
       "False    18653\n",
       "True        74\n",
       "Name: Rooms_Clean_Ok, dtype: int64"
      ]
     },
     "execution_count": 64,
     "metadata": {},
     "output_type": "execute_result"
    }
   ],
   "source": [
    "#Máscaras para outliers\n",
    "mask_higher_outliers_rooms = properati_reduce_caba_clean_outliers_not_nulls_rooms['Rooms_Clean_Ok'] > higher_side_outliers_rooms\n",
    "mask_lower_outliers_rooms = properati_reduce_caba_clean_outliers_not_nulls_rooms['Rooms_Clean_Ok'] < lower_side_outliers_rooms\n",
    "mask_outliers_rooms = mask_higher_outliers_rooms | mask_lower_outliers_rooms \n",
    "mask_outliers_rooms.value_counts()"
   ]
  },
  {
   "cell_type": "code",
   "execution_count": 65,
   "metadata": {},
   "outputs": [
    {
     "name": "stdout",
     "output_type": "stream",
     "text": [
      "Porcentaje de Outliers en la variable 'Rooms_Clean_Ok'(%):  0.4\n"
     ]
    }
   ],
   "source": [
    "print(\"Porcentaje de Outliers en la variable 'Rooms_Clean_Ok'(%): \", str(round(properati_reduce_caba_clean_outliers_not_nulls_rooms.loc[mask_outliers_rooms,:].Rooms_Clean_Ok.shape[0]/properati_reduce_caba_clean_outliers_not_nulls_rooms.Rooms_Clean_Ok.shape[0]*100,2)))"
   ]
  },
  {
   "cell_type": "code",
   "execution_count": 66,
   "metadata": {},
   "outputs": [
    {
     "data": {
      "text/plain": [
       "True     18653\n",
       "False       74\n",
       "Name: Rooms_Clean_Ok, dtype: int64"
      ]
     },
     "execution_count": 66,
     "metadata": {},
     "output_type": "execute_result"
    }
   ],
   "source": [
    "#Máscaras para not outliers\n",
    "mask_higher_not_outliers_rooms = properati_reduce_caba_clean_outliers_not_nulls_rooms['Rooms_Clean_Ok'] <= higher_side_outliers_rooms\n",
    "mask_lower_not_outliers_rooms = properati_reduce_caba_clean_outliers_not_nulls_rooms['Rooms_Clean_Ok'] >= lower_side_outliers_rooms\n",
    "mask_not_outliers_rooms = mask_higher_not_outliers_rooms & mask_lower_not_outliers_rooms \n",
    "mask_not_outliers_rooms.value_counts()"
   ]
  },
  {
   "cell_type": "code",
   "execution_count": 67,
   "metadata": {},
   "outputs": [
    {
     "data": {
      "text/plain": [
       "(18653, 22)"
      ]
     },
     "execution_count": 67,
     "metadata": {},
     "output_type": "execute_result"
    }
   ],
   "source": [
    "#Generamos un Data Frame sin nulls y sin ouliers en 'Rooms_Clean_Ok'\n",
    "properati_reduce_caba_clean_outliers_rooms = properati_reduce_caba_clean_outliers_not_nulls_rooms.loc[mask_not_outliers_rooms,:]\n",
    "properati_reduce_caba_clean_outliers_rooms.shape"
   ]
  },
  {
   "cell_type": "markdown",
   "metadata": {},
   "source": [
    "<a id=\"section_toc\"></a> \n",
    "\n",
    "------------------------------------------------\n",
    "\n",
    "### Generación de variable  \"cochera\" "
   ]
  },
  {
   "cell_type": "code",
   "execution_count": 68,
   "metadata": {},
   "outputs": [
    {
     "name": "stdout",
     "output_type": "stream",
     "text": [
      "int64\n",
      "0    29205\n",
      "1      805\n",
      "Name: Cochera_Si/No, dtype: int64\n"
     ]
    }
   ],
   "source": [
    "patern_cochera = '(?P<cochera>\\s?cochera\\s?|\\s?cocheras\\s?)'    \n",
    "regex_cochera = re.compile(patern_cochera)\n",
    "matchesCocheras = properati_reduce_caba_clean_outliers.title.apply(lambda x: x if x is np.NaN else regex_cochera.search(x,re.IGNORECASE))     \n",
    "matchesCocheras.fillna(0,inplace=True)\n",
    "mask = matchesCocheras != 0\n",
    "Sin_Null = matchesCocheras[mask]\n",
    "SerieCocheras = Sin_Null.apply(lambda x: x.group('cochera'))\n",
    "properati_reduce_caba_clean_outliers[\"temporal_0\"] = 0 \n",
    "Rellenar_NaN(properati_reduce_caba_clean_outliers,SerieCocheras,'Cochera_Si/No',\"temporal_0\")\n",
    "properati_reduce_caba_clean_outliers.drop(\"temporal_0\",axis=1,inplace=True)\n",
    "properati_reduce_caba_clean_outliers['Cochera_Si/No'].replace([\" cochera\",\" cocheras\",\" cochera \",\"cochera\",\"cochera \"],value=1,inplace=True)\n",
    "#Controlamos el tipo de dato\n",
    "print(properati_reduce_caba_clean_outliers['Cochera_Si/No'].dtypes) \n",
    "print(properati_reduce_caba_clean_outliers['Cochera_Si/No'].value_counts())\n"
   ]
  },
  {
   "cell_type": "code",
   "execution_count": 69,
   "metadata": {},
   "outputs": [
    {
     "name": "stdout",
     "output_type": "stream",
     "text": [
      "<class 'pandas.core.frame.DataFrame'>\n",
      "Int64Index: 30010 entries, 0 to 121052\n",
      "Data columns (total 23 columns):\n",
      " #   Column                      Non-Null Count  Dtype  \n",
      "---  ------                      --------------  -----  \n",
      " 0   Unnamed: 0                  30010 non-null  int64  \n",
      " 1   property_type               30010 non-null  object \n",
      " 2   place_name                  30010 non-null  object \n",
      " 3   state_name                  30010 non-null  object \n",
      " 4   geonames_id                 28842 non-null  float64\n",
      " 5   lat                         22403 non-null  float64\n",
      " 6   lon                         22403 non-null  float64\n",
      " 7   price                       26712 non-null  float64\n",
      " 8   currency                    26712 non-null  object \n",
      " 9   price_aprox_local_currency  26712 non-null  float64\n",
      " 10  price_aprox_usd             26712 non-null  float64\n",
      " 11  surface_total_in_m2         24543 non-null  float64\n",
      " 12  surface_covered_in_m2       27672 non-null  float64\n",
      " 13  price_usd_per_m2            21540 non-null  float64\n",
      " 14  price_per_m2                25019 non-null  float64\n",
      " 15  floor                       2953 non-null   float64\n",
      " 16  rooms                       13790 non-null  float64\n",
      " 17  expenses                    6341 non-null   float64\n",
      " 18  description                 30010 non-null  object \n",
      " 19  title                       30010 non-null  object \n",
      " 20  price_per_m2_USD            30010 non-null  float64\n",
      " 21  Rooms_Clean_Ok              18727 non-null  float64\n",
      " 22  Cochera_Si/No               30010 non-null  int64  \n",
      "dtypes: float64(15), int64(2), object(6)\n",
      "memory usage: 5.5+ MB\n"
     ]
    }
   ],
   "source": [
    "properati_reduce_caba_clean_outliers.info()"
   ]
  },
  {
   "cell_type": "markdown",
   "metadata": {},
   "source": [
    "<a id=\"section_toc\"></a> \n",
    "\n",
    "------------------------------------------------\n",
    "\n",
    "### Análisis \n",
    "\n",
    "Vemos los 10 barrios con mayor precio por m2 y los 10 barrios con menor precio por m2 (en USD)"
   ]
  },
  {
   "cell_type": "code",
   "execution_count": 70,
   "metadata": {},
   "outputs": [
    {
     "name": "stdout",
     "output_type": "stream",
     "text": [
      "Los 10 barrios con mayor precio por m2\n",
      "place_name\n",
      "Puerto Madero        4724.0\n",
      "Palermo Chico        4188.0\n",
      "Las Cañitas          3633.0\n",
      "Palermo Soho         3528.0\n",
      "Palermo Hollywood    3448.0\n",
      "Palermo              3344.0\n",
      "Recoleta             3333.0\n",
      "Belgrano             3286.0\n",
      "Palermo Viejo        3232.0\n",
      "Nuñez                3205.0\n",
      "Name: price_per_m2_USD, dtype: float64\n",
      "----------------------------------------\n",
      "Los 10 barrios con menor precio por m2\n",
      "place_name\n",
      "Parque Chacabuco     1943.0\n",
      "Constitución         1924.0\n",
      "Velez Sarsfield      1893.0\n",
      "Mataderos            1815.0\n",
      "Boca                 1754.0\n",
      "Parque Avellaneda    1667.0\n",
      "Villa Riachuelo      1563.0\n",
      "Pompeya              1456.0\n",
      "Villa Lugano         1402.0\n",
      "Villa Soldati         962.0\n",
      "Name: price_per_m2_USD, dtype: float64\n"
     ]
    }
   ],
   "source": [
    "data_grouped = properati_reduce_caba_clean_outliers.groupby('place_name')\n",
    "print(\"Los 10 barrios con mayor precio por m2\")\n",
    "print((data_grouped['price_per_m2_USD'].mean()).round(0).sort_values(ascending=False).head(10))\n",
    "print(\"----------------------------------------\")\n",
    "print(\"Los 10 barrios con menor precio por m2\")\n",
    "print((data_grouped['price_per_m2_USD'].mean()).round(0).sort_values(ascending=False).tail(10))"
   ]
  },
  {
   "cell_type": "markdown",
   "metadata": {},
   "source": [
    "<a id=\"section_toc\"></a> \n",
    "\n",
    "Vemos el precio por m2 en USD por tipo de propiedad."
   ]
  },
  {
   "cell_type": "code",
   "execution_count": 71,
   "metadata": {},
   "outputs": [
    {
     "data": {
      "text/plain": [
       "place_name        property_type\n",
       "Palermo Chico     house            4965.517241\n",
       "Puerto Madero     apartment        4772.499675\n",
       "Palermo Chico     apartment        4139.896434\n",
       "Las Cañitas       house            3860.403697\n",
       "Recoleta          house            3799.548346\n",
       "                                      ...     \n",
       "Boca              store             889.428262\n",
       "Villa Soldati     house             858.439908\n",
       "San Nicolás       house             846.445221\n",
       "Villa Soldati     store             775.688994\n",
       "Parque Chacabuco  store             690.100505\n",
       "Name: price_per_m2_USD, Length: 232, dtype: float64"
      ]
     },
     "execution_count": 71,
     "metadata": {},
     "output_type": "execute_result"
    }
   ],
   "source": [
    "data_grouped_2 = properati_reduce_caba_clean_outliers.groupby(['place_name','property_type'])\n",
    "price_per_m2_USD_barrio_prop = data_grouped_2['price_per_m2_USD'].mean()\n",
    "price_per_m2_USD_barrio_prop.sort_values(ascending=False)"
   ]
  },
  {
   "cell_type": "code",
   "execution_count": null,
   "metadata": {},
   "outputs": [],
   "source": []
  }
 ],
 "metadata": {
  "kernelspec": {
   "display_name": "Python 3",
   "language": "python",
   "name": "python3"
  },
  "language_info": {
   "codemirror_mode": {
    "name": "ipython",
    "version": 3
   },
   "file_extension": ".py",
   "mimetype": "text/x-python",
   "name": "python",
   "nbconvert_exporter": "python",
   "pygments_lexer": "ipython3",
   "version": "3.7.7"
  }
 },
 "nbformat": 4,
 "nbformat_minor": 4
}
